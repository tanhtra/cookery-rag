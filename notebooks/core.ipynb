{
 "cells": [
  {
   "cell_type": "code",
   "execution_count": 23,
   "id": "11c1a2bb-9693-4e9b-9bc1-a162cddc50b6",
   "metadata": {},
   "outputs": [
    {
     "name": "stdout",
     "output_type": "stream",
     "text": [
      "Requirement already satisfied: hyperopt in /opt/anaconda3/envs/llmzc_1/lib/python3.13/site-packages (0.2.7)\n",
      "Requirement already satisfied: numpy in /opt/anaconda3/envs/llmzc_1/lib/python3.13/site-packages (from hyperopt) (2.3.2)\n",
      "Requirement already satisfied: scipy in /opt/anaconda3/envs/llmzc_1/lib/python3.13/site-packages (from hyperopt) (1.16.1)\n",
      "Requirement already satisfied: six in /opt/anaconda3/envs/llmzc_1/lib/python3.13/site-packages (from hyperopt) (1.17.0)\n",
      "Requirement already satisfied: networkx>=2.2 in /opt/anaconda3/envs/llmzc_1/lib/python3.13/site-packages (from hyperopt) (3.5)\n",
      "Requirement already satisfied: future in /opt/anaconda3/envs/llmzc_1/lib/python3.13/site-packages (from hyperopt) (1.0.0)\n",
      "Requirement already satisfied: tqdm in /opt/anaconda3/envs/llmzc_1/lib/python3.13/site-packages (from hyperopt) (4.67.1)\n",
      "Requirement already satisfied: cloudpickle in /opt/anaconda3/envs/llmzc_1/lib/python3.13/site-packages (from hyperopt) (3.1.1)\n",
      "Requirement already satisfied: py4j in /opt/anaconda3/envs/llmzc_1/lib/python3.13/site-packages (from hyperopt) (0.10.9.9)\n"
     ]
    }
   ],
   "source": [
    "import pandas as pd\n",
    "import os, json\n",
    "from tqdm.auto import tqdm\n",
    "from openai import OpenAI\n",
    "\n",
    "!pip install hyperopt\n",
    "from hyperopt import fmin, tpe, hp, STATUS_OK, Trials\n",
    "from hyperopt.pyll import scope"
   ]
  },
  {
   "cell_type": "code",
   "execution_count": 24,
   "id": "b3bc1b22-621e-436f-85a8-704323d93dff",
   "metadata": {},
   "outputs": [],
   "source": [
    "#!wget https://raw.githubusercontent.com/alexeygrigorev/minsearch/main/minsearch.py\n",
    "#!pip install minsearch\n",
    "\n",
    "import minsearch"
   ]
  },
  {
   "cell_type": "markdown",
   "id": "c11302d2-1990-4fe8-becf-24a9f592f418",
   "metadata": {},
   "source": [
    "### Ingestion"
   ]
  },
  {
   "cell_type": "code",
   "execution_count": 25,
   "id": "c329a05b-198e-43f4-bcfd-13104407e3c5",
   "metadata": {},
   "outputs": [
    {
     "data": {
      "text/plain": [
       "Index(['ID', 'type', 'question', 'response'], dtype='object')"
      ]
     },
     "execution_count": 25,
     "metadata": {},
     "output_type": "execute_result"
    }
   ],
   "source": [
    "df_ck = pd.read_csv('../data/cooking_knowledge.csv')\n",
    "df_ck.insert(0, 'ID', df_ck.index)\n",
    "df_ck.columns"
   ]
  },
  {
   "cell_type": "code",
   "execution_count": 26,
   "id": "4b0217a0-d0e3-4918-8f7b-ae83b27ce6a7",
   "metadata": {},
   "outputs": [
    {
     "data": {
      "text/plain": [
       "<minsearch.minsearch.Index at 0x15e149350>"
      ]
     },
     "execution_count": 26,
     "metadata": {},
     "output_type": "execute_result"
    }
   ],
   "source": [
    "documents = df_ck.to_dict(orient='records')\n",
    "\n",
    "index = minsearch.Index(\n",
    "    text_fields=['type', 'question', 'response'],\n",
    "    keyword_fields=['ID']\n",
    ")\n",
    "index.fit(documents)"
   ]
  },
  {
   "cell_type": "markdown",
   "id": "8ee7596b-2f2d-4701-a036-4fb9b04372e7",
   "metadata": {},
   "source": [
    "### RAG FLOW"
   ]
  },
  {
   "cell_type": "code",
   "execution_count": null,
   "id": "85fafa13",
   "metadata": {},
   "outputs": [],
   "source": [
    "# os.environ['OPENAI_API_KEY'] = 'OPENAI_API_KEY' # For testing purposes"
   ]
  },
  {
   "cell_type": "code",
   "execution_count": 28,
   "id": "cf02e6d0-ec6b-42c3-8eac-a80815fb3d66",
   "metadata": {},
   "outputs": [],
   "source": [
    "client = OpenAI()\n",
    "\n",
    "entry_template = \"\"\"\n",
    "    type: {type}\n",
    "    question: {question}\n",
    "    answer: {response}\n",
    "    \"\"\".strip()\n",
    "\n",
    "prompt_template = \"\"\"\n",
    "    You're a cooking course instructor. Answer the QUESTION based on the CONTEXT from the cooking knowledge database.\n",
    "    Use only the facts from the CONTEXT when answering the QUESTION.\n",
    "    \n",
    "    QUESTION: {question}\n",
    "    \n",
    "    CONTEXT: \n",
    "    {context}\n",
    "    \"\"\".strip()"
   ]
  },
  {
   "cell_type": "code",
   "execution_count": null,
   "id": "19872c85-6220-4251-8eb6-f79d84af7c75",
   "metadata": {},
   "outputs": [],
   "source": [
    "def search(query):\n",
    "    boost = {}\n",
    "\n",
    "    results = index.search(\n",
    "        query=query,\n",
    "        filter_dict={},\n",
    "        boost_dict=boost,\n",
    "        num_results=10\n",
    "    )\n",
    "    return results\n",
    "\n",
    "def build_prompt(query, search_results):\n",
    "    context = \"\"\n",
    "    \n",
    "    for doc in search_results:\n",
    "        context = context + entry_template.format(**doc) + \"\\n\\n\"\n",
    "            \n",
    "    prompt = prompt_template.format(question=query, context=context).strip()\n",
    "    return prompt\n",
    "\n",
    "def llm(prompt, model='gpt-4o-mini'):\n",
    "    response = client.chat.completions.create(\n",
    "        model=model,\n",
    "        messages=[{\"role\": \"user\", \"content\": prompt}]\n",
    "    )\n",
    "    return response.choices[0].message.content\n",
    "    \n",
    "def rag(query, model='gpt-4o-mini'):\n",
    "    search_results = search(query)\n",
    "    prompt = build_prompt(query, search_results)\n",
    "    answer = llm(prompt, model=model)\n",
    "    return answer"
   ]
  },
  {
   "cell_type": "code",
   "execution_count": 101,
   "id": "9154463a-13f9-4aca-bfa7-a60eb6d5e31a",
   "metadata": {},
   "outputs": [],
   "source": [
    "query = 'give me info on parmesan'"
   ]
  },
  {
   "cell_type": "code",
   "execution_count": 102,
   "id": "1e7f7c17-620b-42e3-a847-2811329901bf",
   "metadata": {},
   "outputs": [
    {
     "name": "stdout",
     "output_type": "stream",
     "text": [
      "Parmesan cheese pairs well with a variety of ingredients, including basil, pasta, olive oil, figs, grapes, honey, mushrooms, walnuts, and aged balsamic vinegar. These pairings are staples in Italian cooking. Additionally, for a refined meal starter, you can serve Parmigiano-Reggiano with Prosecco, which offers a palate-cleansing and elegant experience.\n"
     ]
    }
   ],
   "source": [
    "#search_results = search(query)\n",
    "#prompt = build_prompt(query, search_results)\n",
    "\n",
    "answer = rag(query)\n",
    "print(answer)"
   ]
  },
  {
   "cell_type": "markdown",
   "id": "1940e00b-910f-441d-a9cd-e4b4f704261d",
   "metadata": {},
   "source": [
    "### Retrieval Evaluation"
   ]
  },
  {
   "cell_type": "code",
   "execution_count": 76,
   "id": "4c47bdc7-31ea-402f-b6a8-610c4332af93",
   "metadata": {},
   "outputs": [
    {
     "data": {
      "text/html": [
       "<div>\n",
       "<style scoped>\n",
       "    .dataframe tbody tr th:only-of-type {\n",
       "        vertical-align: middle;\n",
       "    }\n",
       "\n",
       "    .dataframe tbody tr th {\n",
       "        vertical-align: top;\n",
       "    }\n",
       "\n",
       "    .dataframe thead th {\n",
       "        text-align: right;\n",
       "    }\n",
       "</style>\n",
       "<table border=\"1\" class=\"dataframe\">\n",
       "  <thead>\n",
       "    <tr style=\"text-align: right;\">\n",
       "      <th></th>\n",
       "      <th>id</th>\n",
       "      <th>question</th>\n",
       "    </tr>\n",
       "  </thead>\n",
       "  <tbody>\n",
       "    <tr>\n",
       "      <th>0</th>\n",
       "      <td>0</td>\n",
       "      <td>Can you explain the purpose of HACCP in food s...</td>\n",
       "    </tr>\n",
       "    <tr>\n",
       "      <th>1</th>\n",
       "      <td>0</td>\n",
       "      <td>How does HACCP identify hazards in food produc...</td>\n",
       "    </tr>\n",
       "    <tr>\n",
       "      <th>2</th>\n",
       "      <td>0</td>\n",
       "      <td>What are the key principles of the HACCP system?</td>\n",
       "    </tr>\n",
       "    <tr>\n",
       "      <th>3</th>\n",
       "      <td>0</td>\n",
       "      <td>Why is it important to control hazards in cook...</td>\n",
       "    </tr>\n",
       "    <tr>\n",
       "      <th>4</th>\n",
       "      <td>0</td>\n",
       "      <td>How can I implement HACCP in my kitchen?</td>\n",
       "    </tr>\n",
       "  </tbody>\n",
       "</table>\n",
       "</div>"
      ],
      "text/plain": [
       "   id                                           question\n",
       "0   0  Can you explain the purpose of HACCP in food s...\n",
       "1   0  How does HACCP identify hazards in food produc...\n",
       "2   0   What are the key principles of the HACCP system?\n",
       "3   0  Why is it important to control hazards in cook...\n",
       "4   0           How can I implement HACCP in my kitchen?"
      ]
     },
     "execution_count": 76,
     "metadata": {},
     "output_type": "execute_result"
    }
   ],
   "source": [
    "df_questions = pd.read_csv('../data/ground_truth_2.csv')\n",
    "df_questions.head()"
   ]
  },
  {
   "cell_type": "code",
   "execution_count": 77,
   "id": "915e1cf4-4b09-48da-a774-99c38afa6bc2",
   "metadata": {},
   "outputs": [
    {
     "data": {
      "text/plain": [
       "{'id': 0, 'question': 'Can you explain the purpose of HACCP in food safety?'}"
      ]
     },
     "execution_count": 77,
     "metadata": {},
     "output_type": "execute_result"
    }
   ],
   "source": [
    "ground_truth = df_questions.to_dict(orient='records')\n",
    "ground_truth[0]"
   ]
  },
  {
   "cell_type": "code",
   "execution_count": 78,
   "id": "4f713851-d2df-408e-b6b1-0c06d12f8115",
   "metadata": {},
   "outputs": [],
   "source": [
    "def minsearch_search(query):\n",
    "    boost = {}\n",
    "\n",
    "    results = index.search(\n",
    "        query=query,\n",
    "        filter_dict={},\n",
    "        boost_dict=boost,\n",
    "        num_results=10\n",
    "    )\n",
    "    return results\n",
    "\n",
    "def hit_rate(relevance_total):\n",
    "    cnt = 0\n",
    "\n",
    "    for line in relevance_total:\n",
    "        if True in line:\n",
    "            cnt = cnt + 1\n",
    "\n",
    "    return cnt / len(relevance_total)\n",
    "    \n",
    "def mrr(relevance_total):\n",
    "    total_score = 0.0\n",
    "\n",
    "    for line in relevance_total:\n",
    "        for rank in range(len(line)):\n",
    "            if line[rank] == True:\n",
    "                total_score = total_score + 1 / (rank + 1)\n",
    "\n",
    "    return total_score / len(relevance_total)\n",
    "\n",
    "def evaluate(ground_truth, search_function):\n",
    "    relevance_total = []\n",
    "\n",
    "    for q in tqdm(ground_truth):\n",
    "        doc_id = q['id']\n",
    "        results = search_function(q)\n",
    "        relevance = [d['ID'] == doc_id for d in results]\n",
    "        relevance_total.append(relevance)\n",
    "\n",
    "    return {\n",
    "        'hit_rate': hit_rate(relevance_total),\n",
    "        'mrr': mrr(relevance_total),\n",
    "    }"
   ]
  },
  {
   "cell_type": "markdown",
   "id": "68a2bef0-5444-45fd-b11f-d1976f00222b",
   "metadata": {},
   "source": [
    "### Retrieval \n",
    "The basic approach - using non-boosed minsearch"
   ]
  },
  {
   "cell_type": "code",
   "execution_count": 79,
   "id": "00037f37-d5ed-42c2-aea8-02a985f7ba4e",
   "metadata": {},
   "outputs": [
    {
     "data": {
      "application/vnd.jupyter.widget-view+json": {
       "model_id": "9b75f0559fd8473e9f175af7bcf9efcd",
       "version_major": 2,
       "version_minor": 0
      },
      "text/plain": [
       "  0%|          | 0/5000 [00:00<?, ?it/s]"
      ]
     },
     "metadata": {},
     "output_type": "display_data"
    },
    {
     "data": {
      "text/plain": [
       "{'hit_rate': 0.8016, 'mrr': 0.5945765873015884}"
      ]
     },
     "execution_count": 79,
     "metadata": {},
     "output_type": "execute_result"
    }
   ],
   "source": [
    "evaluate(ground_truth, lambda q: minsearch_search(q['question']))"
   ]
  },
  {
   "cell_type": "code",
   "execution_count": 80,
   "id": "5c8eb80f-9d8e-42ef-94ea-fa920f9d005c",
   "metadata": {},
   "outputs": [],
   "source": [
    "df_validation = df_questions[:2000]\n",
    "df_test = df_questions[2000:]"
   ]
  },
  {
   "cell_type": "markdown",
   "id": "41b87c59-ea40-4175-9aa7-97fe26e4a938",
   "metadata": {},
   "source": [
    "## Finding the best parameters"
   ]
  },
  {
   "cell_type": "code",
   "execution_count": 81,
   "id": "ca81300a-bec7-41f2-8e8e-00c0a01ec49b",
   "metadata": {},
   "outputs": [],
   "source": [
    "import random\n",
    "\n",
    "def simple_optimize(param_ranges, objective_function, n_iterations=10):\n",
    "    best_params = None\n",
    "    best_score = float('-inf')  # Assuming we're minimizing. Use float('-inf') if maximizing.\n",
    "\n",
    "    for _ in range(n_iterations):\n",
    "        # Generate random parameters\n",
    "        current_params = {}\n",
    "        for param, (min_val, max_val) in param_ranges.items():\n",
    "            if isinstance(min_val, int) and isinstance(max_val, int):\n",
    "                current_params[param] = random.randint(min_val, max_val)\n",
    "            else:\n",
    "                current_params[param] = random.uniform(min_val, max_val)\n",
    "        \n",
    "        # Evaluate the objective function\n",
    "        current_score = objective_function(current_params)\n",
    "        \n",
    "        # Update best if current is better\n",
    "        if current_score > best_score:  # Change to > if maximizing\n",
    "            best_score = current_score\n",
    "            best_params = current_params\n",
    "    \n",
    "    return best_params, best_score\n",
    "\n",
    "def minsearch_search_boost(query, boost=None):\n",
    "    if boost is None:\n",
    "        boost = {}\n",
    "\n",
    "    results = index.search(\n",
    "        query=query,\n",
    "        filter_dict={},\n",
    "        boost_dict=boost,\n",
    "        num_results=10\n",
    "    )\n",
    "\n",
    "    return results\n",
    "\n",
    "def objective(boost_params):\n",
    "    def search_function(q):\n",
    "        return minsearch_search_boost(q['question'], boost_params)\n",
    "\n",
    "    results = evaluate(gt_val, search_function)\n",
    "    return results['mrr']"
   ]
  },
  {
   "cell_type": "code",
   "execution_count": 82,
   "id": "effdf28a-323a-4295-bfc6-4dd3bf4f7cab",
   "metadata": {},
   "outputs": [
    {
     "data": {
      "application/vnd.jupyter.widget-view+json": {
       "model_id": "e136049c8e5b434c97c4d7934010f80a",
       "version_major": 2,
       "version_minor": 0
      },
      "text/plain": [
       "  0%|          | 0/2000 [00:00<?, ?it/s]"
      ]
     },
     "metadata": {},
     "output_type": "display_data"
    },
    {
     "data": {
      "application/vnd.jupyter.widget-view+json": {
       "model_id": "43bb807e6b16474e82fbb4d0ecf41676",
       "version_major": 2,
       "version_minor": 0
      },
      "text/plain": [
       "  0%|          | 0/2000 [00:00<?, ?it/s]"
      ]
     },
     "metadata": {},
     "output_type": "display_data"
    },
    {
     "data": {
      "application/vnd.jupyter.widget-view+json": {
       "model_id": "a546182f69654262adb96e0b2d5db3c3",
       "version_major": 2,
       "version_minor": 0
      },
      "text/plain": [
       "  0%|          | 0/2000 [00:00<?, ?it/s]"
      ]
     },
     "metadata": {},
     "output_type": "display_data"
    },
    {
     "data": {
      "application/vnd.jupyter.widget-view+json": {
       "model_id": "bb825bb3d75d490ea1655a7c2d48803a",
       "version_major": 2,
       "version_minor": 0
      },
      "text/plain": [
       "  0%|          | 0/2000 [00:00<?, ?it/s]"
      ]
     },
     "metadata": {},
     "output_type": "display_data"
    },
    {
     "data": {
      "application/vnd.jupyter.widget-view+json": {
       "model_id": "6e19301b134f41a7a37ced11b3c6e894",
       "version_major": 2,
       "version_minor": 0
      },
      "text/plain": [
       "  0%|          | 0/2000 [00:00<?, ?it/s]"
      ]
     },
     "metadata": {},
     "output_type": "display_data"
    },
    {
     "data": {
      "application/vnd.jupyter.widget-view+json": {
       "model_id": "08bac59b973946adaa4d7b6806bc6f49",
       "version_major": 2,
       "version_minor": 0
      },
      "text/plain": [
       "  0%|          | 0/2000 [00:00<?, ?it/s]"
      ]
     },
     "metadata": {},
     "output_type": "display_data"
    },
    {
     "data": {
      "application/vnd.jupyter.widget-view+json": {
       "model_id": "7f83cf5037fa4989bc2ca5c2a6c54c38",
       "version_major": 2,
       "version_minor": 0
      },
      "text/plain": [
       "  0%|          | 0/2000 [00:00<?, ?it/s]"
      ]
     },
     "metadata": {},
     "output_type": "display_data"
    },
    {
     "data": {
      "application/vnd.jupyter.widget-view+json": {
       "model_id": "d50995a145d54ded8188124a98678e96",
       "version_major": 2,
       "version_minor": 0
      },
      "text/plain": [
       "  0%|          | 0/2000 [00:00<?, ?it/s]"
      ]
     },
     "metadata": {},
     "output_type": "display_data"
    },
    {
     "data": {
      "application/vnd.jupyter.widget-view+json": {
       "model_id": "9eae88288b354c588e0e4299cf8cfd93",
       "version_major": 2,
       "version_minor": 0
      },
      "text/plain": [
       "  0%|          | 0/2000 [00:00<?, ?it/s]"
      ]
     },
     "metadata": {},
     "output_type": "display_data"
    },
    {
     "data": {
      "application/vnd.jupyter.widget-view+json": {
       "model_id": "7871e1174edb437697928feeb0bb3fd2",
       "version_major": 2,
       "version_minor": 0
      },
      "text/plain": [
       "  0%|          | 0/2000 [00:00<?, ?it/s]"
      ]
     },
     "metadata": {},
     "output_type": "display_data"
    },
    {
     "data": {
      "application/vnd.jupyter.widget-view+json": {
       "model_id": "c18b68a2b7ee440781406f0ce24ca6e9",
       "version_major": 2,
       "version_minor": 0
      },
      "text/plain": [
       "  0%|          | 0/2000 [00:00<?, ?it/s]"
      ]
     },
     "metadata": {},
     "output_type": "display_data"
    },
    {
     "data": {
      "application/vnd.jupyter.widget-view+json": {
       "model_id": "b5042a78767844b69a4437c4c139e82a",
       "version_major": 2,
       "version_minor": 0
      },
      "text/plain": [
       "  0%|          | 0/2000 [00:00<?, ?it/s]"
      ]
     },
     "metadata": {},
     "output_type": "display_data"
    },
    {
     "data": {
      "application/vnd.jupyter.widget-view+json": {
       "model_id": "acbe9297a7a7434584d0bdeea8a85d88",
       "version_major": 2,
       "version_minor": 0
      },
      "text/plain": [
       "  0%|          | 0/2000 [00:00<?, ?it/s]"
      ]
     },
     "metadata": {},
     "output_type": "display_data"
    },
    {
     "data": {
      "application/vnd.jupyter.widget-view+json": {
       "model_id": "056b693aad1f4cd99f252e3777cdece8",
       "version_major": 2,
       "version_minor": 0
      },
      "text/plain": [
       "  0%|          | 0/2000 [00:00<?, ?it/s]"
      ]
     },
     "metadata": {},
     "output_type": "display_data"
    },
    {
     "data": {
      "application/vnd.jupyter.widget-view+json": {
       "model_id": "bf0927b234874b839ee3cff84b4d807f",
       "version_major": 2,
       "version_minor": 0
      },
      "text/plain": [
       "  0%|          | 0/2000 [00:00<?, ?it/s]"
      ]
     },
     "metadata": {},
     "output_type": "display_data"
    },
    {
     "data": {
      "application/vnd.jupyter.widget-view+json": {
       "model_id": "87e1173447984f03b01c15594822ed90",
       "version_major": 2,
       "version_minor": 0
      },
      "text/plain": [
       "  0%|          | 0/2000 [00:00<?, ?it/s]"
      ]
     },
     "metadata": {},
     "output_type": "display_data"
    },
    {
     "data": {
      "application/vnd.jupyter.widget-view+json": {
       "model_id": "5aeb8ad8e68249e698a4111b7fab6cbd",
       "version_major": 2,
       "version_minor": 0
      },
      "text/plain": [
       "  0%|          | 0/2000 [00:00<?, ?it/s]"
      ]
     },
     "metadata": {},
     "output_type": "display_data"
    },
    {
     "data": {
      "application/vnd.jupyter.widget-view+json": {
       "model_id": "f2a437ce946e4995a248f6c79c09cd6a",
       "version_major": 2,
       "version_minor": 0
      },
      "text/plain": [
       "  0%|          | 0/2000 [00:00<?, ?it/s]"
      ]
     },
     "metadata": {},
     "output_type": "display_data"
    },
    {
     "data": {
      "application/vnd.jupyter.widget-view+json": {
       "model_id": "e826e032f5fc4336a281769b1db832af",
       "version_major": 2,
       "version_minor": 0
      },
      "text/plain": [
       "  0%|          | 0/2000 [00:00<?, ?it/s]"
      ]
     },
     "metadata": {},
     "output_type": "display_data"
    },
    {
     "data": {
      "application/vnd.jupyter.widget-view+json": {
       "model_id": "ff5cce016ea246408167ef46dbe72649",
       "version_major": 2,
       "version_minor": 0
      },
      "text/plain": [
       "  0%|          | 0/2000 [00:00<?, ?it/s]"
      ]
     },
     "metadata": {},
     "output_type": "display_data"
    },
    {
     "data": {
      "text/plain": [
       "({'id': 1.3712380633786596,\n",
       "  'question': 1.2123315926140017,\n",
       "  'response': 2.569534561384091},\n",
       " 0.6277128968253967)"
      ]
     },
     "execution_count": 82,
     "metadata": {},
     "output_type": "execute_result"
    }
   ],
   "source": [
    "gt_val = df_validation.to_dict(orient='records')\n",
    "\n",
    "param_ranges = {\n",
    "    'id': (0.0, 3.0),\n",
    "    'question': (0.0, 3.0),\n",
    "    'response': (0.0, 3.0)\n",
    "}\n",
    "\n",
    "simple_optimize(param_ranges, objective, n_iterations=20)"
   ]
  },
  {
   "cell_type": "code",
   "execution_count": 83,
   "id": "75fd285b-f6d8-46bf-b361-366de6778f38",
   "metadata": {},
   "outputs": [
    {
     "data": {
      "application/vnd.jupyter.widget-view+json": {
       "model_id": "2b1135e085fe4eb5ab24d8ef0c09edc4",
       "version_major": 2,
       "version_minor": 0
      },
      "text/plain": [
       "  0%|          | 0/5000 [00:00<?, ?it/s]"
      ]
     },
     "metadata": {},
     "output_type": "display_data"
    },
    {
     "data": {
      "text/plain": [
       "{'hit_rate': 0.8422, 'mrr': 0.6336352380952389}"
      ]
     },
     "execution_count": 83,
     "metadata": {},
     "output_type": "execute_result"
    }
   ],
   "source": [
    "def minsearch_improved(query):\n",
    "    boost = {\n",
    "            'id': 1.3712380633786596,\n",
    "            'question': 1.2123315926140017,\n",
    "            'response': 2.569534561384091\n",
    "        }\n",
    "\n",
    "    results = index.search(\n",
    "        query=query,\n",
    "        filter_dict={},\n",
    "        boost_dict=boost,\n",
    "        num_results=10\n",
    "    )\n",
    "    return results\n",
    "\n",
    "evaluate(ground_truth, lambda q: minsearch_improved(q['question']))"
   ]
  },
  {
   "cell_type": "markdown",
   "id": "624b568f-e4ad-47e5-a81c-848be243cec2",
   "metadata": {},
   "source": [
    "### RAG Evaluation"
   ]
  },
  {
   "cell_type": "code",
   "execution_count": 84,
   "id": "9d3ffb69-891a-4244-8ebc-11412bc4ab93",
   "metadata": {},
   "outputs": [],
   "source": [
    "prompt2_template = \"\"\"\n",
    "You are an expert evaluator for a Retrieval-Augmented Generation (RAG) system.\n",
    "Your task is to analyze the relevance of the generated answer to the given question.\n",
    "Based on the relevance of the generated answer, you will classify it\n",
    "as \"NON_RELEVANT\", \"PARTLY_RELEVANT\", or \"RELEVANT\".\n",
    "\n",
    "Here is the data for evaluation:\n",
    "\n",
    "Question: {question}\n",
    "Generated Answer: {answer_llm}\n",
    "\n",
    "Please analyze the content and context of the generated answer in relation to the question\n",
    "and provide your evaluation in parsable JSON without using code blocks:\n",
    "\n",
    "{{\"Relevance\": \"NON_RELEVANT\" | \"PARTLY_RELEVANT\" | \"RELEVANT\",\n",
    "  \"Explanation\": \"[Provide a brief explanation for your evaluation]\"}}\n",
    "\"\"\".strip()"
   ]
  },
  {
   "cell_type": "code",
   "execution_count": 85,
   "id": "504f6e00",
   "metadata": {},
   "outputs": [
    {
     "data": {
      "text/plain": [
       "(5000, 2)"
      ]
     },
     "execution_count": 85,
     "metadata": {},
     "output_type": "execute_result"
    }
   ],
   "source": [
    "df_questions.shape"
   ]
  },
  {
   "cell_type": "code",
   "execution_count": 88,
   "id": "bd7e0f34-f7ad-48c1-b500-f3baeae3cfe0",
   "metadata": {},
   "outputs": [],
   "source": [
    "df_sample = df_questions.sample(n=100, random_state=1)\n",
    "sample = df_sample.to_dict(orient='records')"
   ]
  },
  {
   "cell_type": "code",
   "execution_count": 89,
   "id": "bc3a4256-3d5e-4a11-bf2d-d7580561373a",
   "metadata": {},
   "outputs": [
    {
     "data": {
      "application/vnd.jupyter.widget-view+json": {
       "model_id": "cb84fe01d3314d91b4bd82d491877ff5",
       "version_major": 2,
       "version_minor": 0
      },
      "text/plain": [
       "  0%|          | 0/100 [00:00<?, ?it/s]"
      ]
     },
     "metadata": {},
     "output_type": "display_data"
    }
   ],
   "source": [
    "evaluations = []\n",
    "\n",
    "for record in tqdm(sample):\n",
    "        \n",
    "    question = record['question']\n",
    "    answer_llm = rag(question)\n",
    "\n",
    "    prompt = prompt2_template.format(\n",
    "        question=question,\n",
    "        answer_llm=answer_llm)\n",
    "    evaluation = llm(prompt)\n",
    "\n",
    "    evaluations.append((record, answer_llm, evaluation))"
   ]
  },
  {
   "cell_type": "code",
   "execution_count": 90,
   "id": "3bdaf059-d54f-4ea6-9044-7928fa27babc",
   "metadata": {},
   "outputs": [
    {
     "data": {
      "text/html": [
       "<div>\n",
       "<style scoped>\n",
       "    .dataframe tbody tr th:only-of-type {\n",
       "        vertical-align: middle;\n",
       "    }\n",
       "\n",
       "    .dataframe tbody tr th {\n",
       "        vertical-align: top;\n",
       "    }\n",
       "\n",
       "    .dataframe thead th {\n",
       "        text-align: right;\n",
       "    }\n",
       "</style>\n",
       "<table border=\"1\" class=\"dataframe\">\n",
       "  <thead>\n",
       "    <tr style=\"text-align: right;\">\n",
       "      <th></th>\n",
       "      <th>record</th>\n",
       "      <th>answer</th>\n",
       "      <th>evaluation</th>\n",
       "    </tr>\n",
       "  </thead>\n",
       "  <tbody>\n",
       "    <tr>\n",
       "      <th>0</th>\n",
       "      <td>{'id': 552, 'question': 'Are there any tips fo...</td>\n",
       "      <td>To keep grilled chicken moist, consider brinin...</td>\n",
       "      <td>{\"Relevance\": \"RELEVANT\", \"Explanation\": \"The ...</td>\n",
       "    </tr>\n",
       "    <tr>\n",
       "      <th>1</th>\n",
       "      <td>{'id': 953, 'question': 'Is Parmigiano Reggian...</td>\n",
       "      <td>Yes, Parmigiano Reggiano is suitable for sandw...</td>\n",
       "      <td>{\"Relevance\": \"RELEVANT\", \"Explanation\": \"The ...</td>\n",
       "    </tr>\n",
       "    <tr>\n",
       "      <th>2</th>\n",
       "      <td>{'id': 762, 'question': 'Can you suggest a sim...</td>\n",
       "      <td>A simple dish using Vacherin cheese could be t...</td>\n",
       "      <td>{\"Relevance\": \"RELEVANT\", \"Explanation\": \"The ...</td>\n",
       "    </tr>\n",
       "    <tr>\n",
       "      <th>3</th>\n",
       "      <td>{'id': 699, 'question': 'Are there any health ...</td>\n",
       "      <td>The provided context does not explicitly menti...</td>\n",
       "      <td>{\"Relevance\": \"NON_RELEVANT\", \"Explanation\": \"...</td>\n",
       "    </tr>\n",
       "    <tr>\n",
       "      <th>4</th>\n",
       "      <td>{'id': 547, 'question': 'What is the grilling ...</td>\n",
       "      <td>The grilling temperature range for shrimp is n...</td>\n",
       "      <td>{\"Relevance\": \"PARTLY_RELEVANT\", \\n \"Explanati...</td>\n",
       "    </tr>\n",
       "  </tbody>\n",
       "</table>\n",
       "</div>"
      ],
      "text/plain": [
       "                                              record  \\\n",
       "0  {'id': 552, 'question': 'Are there any tips fo...   \n",
       "1  {'id': 953, 'question': 'Is Parmigiano Reggian...   \n",
       "2  {'id': 762, 'question': 'Can you suggest a sim...   \n",
       "3  {'id': 699, 'question': 'Are there any health ...   \n",
       "4  {'id': 547, 'question': 'What is the grilling ...   \n",
       "\n",
       "                                              answer  \\\n",
       "0  To keep grilled chicken moist, consider brinin...   \n",
       "1  Yes, Parmigiano Reggiano is suitable for sandw...   \n",
       "2  A simple dish using Vacherin cheese could be t...   \n",
       "3  The provided context does not explicitly menti...   \n",
       "4  The grilling temperature range for shrimp is n...   \n",
       "\n",
       "                                          evaluation  \n",
       "0  {\"Relevance\": \"RELEVANT\", \"Explanation\": \"The ...  \n",
       "1  {\"Relevance\": \"RELEVANT\", \"Explanation\": \"The ...  \n",
       "2  {\"Relevance\": \"RELEVANT\", \"Explanation\": \"The ...  \n",
       "3  {\"Relevance\": \"NON_RELEVANT\", \"Explanation\": \"...  \n",
       "4  {\"Relevance\": \"PARTLY_RELEVANT\", \\n \"Explanati...  "
      ]
     },
     "execution_count": 90,
     "metadata": {},
     "output_type": "execute_result"
    }
   ],
   "source": [
    "df_eval = pd.DataFrame(evaluations, columns=['record','answer', 'evaluation'])\n",
    "df_eval.head()"
   ]
  },
  {
   "cell_type": "code",
   "execution_count": 91,
   "id": "a4b40f92-5484-4332-a207-cf32856ebee8",
   "metadata": {},
   "outputs": [
    {
     "data": {
      "text/html": [
       "<div>\n",
       "<style scoped>\n",
       "    .dataframe tbody tr th:only-of-type {\n",
       "        vertical-align: middle;\n",
       "    }\n",
       "\n",
       "    .dataframe tbody tr th {\n",
       "        vertical-align: top;\n",
       "    }\n",
       "\n",
       "    .dataframe thead th {\n",
       "        text-align: right;\n",
       "    }\n",
       "</style>\n",
       "<table border=\"1\" class=\"dataframe\">\n",
       "  <thead>\n",
       "    <tr style=\"text-align: right;\">\n",
       "      <th></th>\n",
       "      <th>answer</th>\n",
       "      <th>id</th>\n",
       "      <th>question</th>\n",
       "      <th>relevance</th>\n",
       "      <th>explanation</th>\n",
       "    </tr>\n",
       "  </thead>\n",
       "  <tbody>\n",
       "    <tr>\n",
       "      <th>0</th>\n",
       "      <td>To keep grilled chicken moist, consider brinin...</td>\n",
       "      <td>552</td>\n",
       "      <td>Are there any tips for grilling chicken to kee...</td>\n",
       "      <td>RELEVANT</td>\n",
       "      <td>The generated answer provides specific tips fo...</td>\n",
       "    </tr>\n",
       "    <tr>\n",
       "      <th>1</th>\n",
       "      <td>Yes, Parmigiano Reggiano is suitable for sandw...</td>\n",
       "      <td>953</td>\n",
       "      <td>Is Parmigiano Reggiano suitable for sandwiches?</td>\n",
       "      <td>RELEVANT</td>\n",
       "      <td>The generated answer directly addresses the qu...</td>\n",
       "    </tr>\n",
       "    <tr>\n",
       "      <th>2</th>\n",
       "      <td>A simple dish using Vacherin cheese could be t...</td>\n",
       "      <td>762</td>\n",
       "      <td>Can you suggest a simple dish using Vacherin c...</td>\n",
       "      <td>RELEVANT</td>\n",
       "      <td>The generated answer provides a specific and s...</td>\n",
       "    </tr>\n",
       "    <tr>\n",
       "      <th>3</th>\n",
       "      <td>The provided context does not explicitly menti...</td>\n",
       "      <td>699</td>\n",
       "      <td>Are there any health benefits associated with ...</td>\n",
       "      <td>NON_RELEVANT</td>\n",
       "      <td>The generated answer does not address the ques...</td>\n",
       "    </tr>\n",
       "    <tr>\n",
       "      <th>4</th>\n",
       "      <td>The grilling temperature range for shrimp is n...</td>\n",
       "      <td>547</td>\n",
       "      <td>What is the grilling temperature range for shr...</td>\n",
       "      <td>PARTLY_RELEVANT</td>\n",
       "      <td>The generated answer provides some relevant in...</td>\n",
       "    </tr>\n",
       "    <tr>\n",
       "      <th>...</th>\n",
       "      <td>...</td>\n",
       "      <td>...</td>\n",
       "      <td>...</td>\n",
       "      <td>...</td>\n",
       "      <td>...</td>\n",
       "    </tr>\n",
       "    <tr>\n",
       "      <th>95</th>\n",
       "      <td>Aging meat improves its tenderness primarily d...</td>\n",
       "      <td>65</td>\n",
       "      <td>How does aging meat improve its tenderness?</td>\n",
       "      <td>RELEVANT</td>\n",
       "      <td>The generated answer directly addresses the qu...</td>\n",
       "    </tr>\n",
       "    <tr>\n",
       "      <th>96</th>\n",
       "      <td>Yes, Saigon cinnamon is suitable for making ga...</td>\n",
       "      <td>618</td>\n",
       "      <td>Is Saigon cinnamon suitable for making ganaches?</td>\n",
       "      <td>RELEVANT</td>\n",
       "      <td>The generated answer directly addresses the qu...</td>\n",
       "    </tr>\n",
       "    <tr>\n",
       "      <th>97</th>\n",
       "      <td>The first step in preparing a basic omelet is ...</td>\n",
       "      <td>56</td>\n",
       "      <td>What is the first step in preparing a basic om...</td>\n",
       "      <td>RELEVANT</td>\n",
       "      <td>The generated answer directly addresses the qu...</td>\n",
       "    </tr>\n",
       "    <tr>\n",
       "      <th>98</th>\n",
       "      <td>To implement HACCP in your kitchen, follow the...</td>\n",
       "      <td>138</td>\n",
       "      <td>How do I implement HACCP in my kitchen?</td>\n",
       "      <td>RELEVANT</td>\n",
       "      <td>The generated answer directly addresses the qu...</td>\n",
       "    </tr>\n",
       "    <tr>\n",
       "      <th>99</th>\n",
       "      <td>To enhance the flavor of beef, you can use the...</td>\n",
       "      <td>928</td>\n",
       "      <td>What techniques can I use to enhance the flavo...</td>\n",
       "      <td>RELEVANT</td>\n",
       "      <td>The generated answer directly addresses the qu...</td>\n",
       "    </tr>\n",
       "  </tbody>\n",
       "</table>\n",
       "<p>100 rows × 5 columns</p>\n",
       "</div>"
      ],
      "text/plain": [
       "                                               answer   id  \\\n",
       "0   To keep grilled chicken moist, consider brinin...  552   \n",
       "1   Yes, Parmigiano Reggiano is suitable for sandw...  953   \n",
       "2   A simple dish using Vacherin cheese could be t...  762   \n",
       "3   The provided context does not explicitly menti...  699   \n",
       "4   The grilling temperature range for shrimp is n...  547   \n",
       "..                                                ...  ...   \n",
       "95  Aging meat improves its tenderness primarily d...   65   \n",
       "96  Yes, Saigon cinnamon is suitable for making ga...  618   \n",
       "97  The first step in preparing a basic omelet is ...   56   \n",
       "98  To implement HACCP in your kitchen, follow the...  138   \n",
       "99  To enhance the flavor of beef, you can use the...  928   \n",
       "\n",
       "                                             question        relevance  \\\n",
       "0   Are there any tips for grilling chicken to kee...         RELEVANT   \n",
       "1     Is Parmigiano Reggiano suitable for sandwiches?         RELEVANT   \n",
       "2   Can you suggest a simple dish using Vacherin c...         RELEVANT   \n",
       "3   Are there any health benefits associated with ...     NON_RELEVANT   \n",
       "4   What is the grilling temperature range for shr...  PARTLY_RELEVANT   \n",
       "..                                                ...              ...   \n",
       "95        How does aging meat improve its tenderness?         RELEVANT   \n",
       "96   Is Saigon cinnamon suitable for making ganaches?         RELEVANT   \n",
       "97  What is the first step in preparing a basic om...         RELEVANT   \n",
       "98            How do I implement HACCP in my kitchen?         RELEVANT   \n",
       "99  What techniques can I use to enhance the flavo...         RELEVANT   \n",
       "\n",
       "                                          explanation  \n",
       "0   The generated answer provides specific tips fo...  \n",
       "1   The generated answer directly addresses the qu...  \n",
       "2   The generated answer provides a specific and s...  \n",
       "3   The generated answer does not address the ques...  \n",
       "4   The generated answer provides some relevant in...  \n",
       "..                                                ...  \n",
       "95  The generated answer directly addresses the qu...  \n",
       "96  The generated answer directly addresses the qu...  \n",
       "97  The generated answer directly addresses the qu...  \n",
       "98  The generated answer directly addresses the qu...  \n",
       "99  The generated answer directly addresses the qu...  \n",
       "\n",
       "[100 rows x 5 columns]"
      ]
     },
     "execution_count": 91,
     "metadata": {},
     "output_type": "execute_result"
    }
   ],
   "source": [
    "df_eval['id'] = df_eval.record.apply(lambda d: d['id'])\n",
    "df_eval['question'] = df_eval.record.apply(lambda d: d['question'])\n",
    "\n",
    "df_eval['evaluation'] = df_eval['evaluation'].apply(json.loads)\n",
    "df_eval['relevance'] = df_eval.evaluation.apply(lambda d: d['Relevance'])\n",
    "df_eval['explanation'] = df_eval.evaluation.apply(lambda d: d['Explanation'])\n",
    "\n",
    "del df_eval['record']\n",
    "del df_eval['evaluation']\n",
    "\n",
    "df_eval"
   ]
  },
  {
   "cell_type": "code",
   "execution_count": 92,
   "id": "5d96cea5-177f-446c-a296-4bf75eb607bf",
   "metadata": {},
   "outputs": [
    {
     "data": {
      "text/plain": [
       "relevance\n",
       "RELEVANT           90\n",
       "PARTLY_RELEVANT     7\n",
       "NON_RELEVANT        3\n",
       "Name: count, dtype: int64"
      ]
     },
     "execution_count": 92,
     "metadata": {},
     "output_type": "execute_result"
    }
   ],
   "source": [
    "df_eval.relevance.value_counts()"
   ]
  },
  {
   "cell_type": "code",
   "execution_count": 93,
   "id": "b68c3eb7-4801-4b3a-aed9-ae05b1832fa0",
   "metadata": {},
   "outputs": [
    {
     "data": {
      "application/vnd.jupyter.widget-view+json": {
       "model_id": "20b8c4b9541747279d7b4fc02361016b",
       "version_major": 2,
       "version_minor": 0
      },
      "text/plain": [
       "  0%|          | 0/100 [00:00<?, ?it/s]"
      ]
     },
     "metadata": {},
     "output_type": "display_data"
    }
   ],
   "source": [
    "evaluations_4o = []\n",
    "\n",
    "for record in tqdm(sample):\n",
    "        \n",
    "    question = record['question']\n",
    "    answer_llm = rag(question, model='gpt-4o')\n",
    "\n",
    "    prompt = prompt2_template.format(\n",
    "        question=question,\n",
    "        answer_llm=answer_llm)\n",
    "    evaluation = llm(prompt)\n",
    "\n",
    "    evaluations_4o.append((record, answer_llm, evaluation))"
   ]
  },
  {
   "cell_type": "code",
   "execution_count": 96,
   "id": "971aa0f7-d8d5-4872-8283-c785c36145f6",
   "metadata": {},
   "outputs": [
    {
     "data": {
      "text/html": [
       "<div>\n",
       "<style scoped>\n",
       "    .dataframe tbody tr th:only-of-type {\n",
       "        vertical-align: middle;\n",
       "    }\n",
       "\n",
       "    .dataframe tbody tr th {\n",
       "        vertical-align: top;\n",
       "    }\n",
       "\n",
       "    .dataframe thead th {\n",
       "        text-align: right;\n",
       "    }\n",
       "</style>\n",
       "<table border=\"1\" class=\"dataframe\">\n",
       "  <thead>\n",
       "    <tr style=\"text-align: right;\">\n",
       "      <th></th>\n",
       "      <th>answer</th>\n",
       "      <th>id</th>\n",
       "      <th>question</th>\n",
       "      <th>relevance</th>\n",
       "      <th>explanation</th>\n",
       "    </tr>\n",
       "  </thead>\n",
       "  <tbody>\n",
       "    <tr>\n",
       "      <th>0</th>\n",
       "      <td>Yes, there is a tip that involves brining to k...</td>\n",
       "      <td>552</td>\n",
       "      <td>Are there any tips for grilling chicken to kee...</td>\n",
       "      <td>RELEVANT</td>\n",
       "      <td>The generated answer directly addresses the qu...</td>\n",
       "    </tr>\n",
       "    <tr>\n",
       "      <th>1</th>\n",
       "      <td>Yes, Parmigiano Reggiano is suitable for sandw...</td>\n",
       "      <td>953</td>\n",
       "      <td>Is Parmigiano Reggiano suitable for sandwiches?</td>\n",
       "      <td>RELEVANT</td>\n",
       "      <td>The generated answer directly addresses the qu...</td>\n",
       "    </tr>\n",
       "    <tr>\n",
       "      <th>2</th>\n",
       "      <td>A simple dish using Vacherin cheese is to serv...</td>\n",
       "      <td>762</td>\n",
       "      <td>Can you suggest a simple dish using Vacherin c...</td>\n",
       "      <td>RELEVANT</td>\n",
       "      <td>The generated answer directly addresses the qu...</td>\n",
       "    </tr>\n",
       "    <tr>\n",
       "      <th>3</th>\n",
       "      <td>The provided context does not explicitly menti...</td>\n",
       "      <td>699</td>\n",
       "      <td>Are there any health benefits associated with ...</td>\n",
       "      <td>PARTLY_RELEVANT</td>\n",
       "      <td>The generated answer acknowledges the lack of ...</td>\n",
       "    </tr>\n",
       "    <tr>\n",
       "      <th>4</th>\n",
       "      <td>The context provided does not specify the exac...</td>\n",
       "      <td>547</td>\n",
       "      <td>What is the grilling temperature range for shr...</td>\n",
       "      <td>RELEVANT</td>\n",
       "      <td>The generated answer provides a reasonable tem...</td>\n",
       "    </tr>\n",
       "    <tr>\n",
       "      <th>...</th>\n",
       "      <td>...</td>\n",
       "      <td>...</td>\n",
       "      <td>...</td>\n",
       "      <td>...</td>\n",
       "      <td>...</td>\n",
       "    </tr>\n",
       "    <tr>\n",
       "      <th>95</th>\n",
       "      <td>Aging meat improves its tenderness primarily d...</td>\n",
       "      <td>65</td>\n",
       "      <td>How does aging meat improve its tenderness?</td>\n",
       "      <td>RELEVANT</td>\n",
       "      <td>The generated answer directly addresses the qu...</td>\n",
       "    </tr>\n",
       "    <tr>\n",
       "      <th>96</th>\n",
       "      <td>Yes, Saigon cinnamon is suitable for making ga...</td>\n",
       "      <td>618</td>\n",
       "      <td>Is Saigon cinnamon suitable for making ganaches?</td>\n",
       "      <td>RELEVANT</td>\n",
       "      <td>The generated answer directly addresses the qu...</td>\n",
       "    </tr>\n",
       "    <tr>\n",
       "      <th>97</th>\n",
       "      <td>The first step in preparing a basic omelet is ...</td>\n",
       "      <td>56</td>\n",
       "      <td>What is the first step in preparing a basic om...</td>\n",
       "      <td>RELEVANT</td>\n",
       "      <td>The generated answer directly addresses the qu...</td>\n",
       "    </tr>\n",
       "    <tr>\n",
       "      <th>98</th>\n",
       "      <td>Implementing HACCP in your kitchen involves se...</td>\n",
       "      <td>138</td>\n",
       "      <td>How do I implement HACCP in my kitchen?</td>\n",
       "      <td>RELEVANT</td>\n",
       "      <td>The generated answer provides a comprehensive ...</td>\n",
       "    </tr>\n",
       "    <tr>\n",
       "      <th>99</th>\n",
       "      <td>To enhance the flavor of beef, you can employ ...</td>\n",
       "      <td>928</td>\n",
       "      <td>What techniques can I use to enhance the flavo...</td>\n",
       "      <td>RELEVANT</td>\n",
       "      <td>The generated answer directly addresses the qu...</td>\n",
       "    </tr>\n",
       "  </tbody>\n",
       "</table>\n",
       "<p>100 rows × 5 columns</p>\n",
       "</div>"
      ],
      "text/plain": [
       "                                               answer   id  \\\n",
       "0   Yes, there is a tip that involves brining to k...  552   \n",
       "1   Yes, Parmigiano Reggiano is suitable for sandw...  953   \n",
       "2   A simple dish using Vacherin cheese is to serv...  762   \n",
       "3   The provided context does not explicitly menti...  699   \n",
       "4   The context provided does not specify the exac...  547   \n",
       "..                                                ...  ...   \n",
       "95  Aging meat improves its tenderness primarily d...   65   \n",
       "96  Yes, Saigon cinnamon is suitable for making ga...  618   \n",
       "97  The first step in preparing a basic omelet is ...   56   \n",
       "98  Implementing HACCP in your kitchen involves se...  138   \n",
       "99  To enhance the flavor of beef, you can employ ...  928   \n",
       "\n",
       "                                             question        relevance  \\\n",
       "0   Are there any tips for grilling chicken to kee...         RELEVANT   \n",
       "1     Is Parmigiano Reggiano suitable for sandwiches?         RELEVANT   \n",
       "2   Can you suggest a simple dish using Vacherin c...         RELEVANT   \n",
       "3   Are there any health benefits associated with ...  PARTLY_RELEVANT   \n",
       "4   What is the grilling temperature range for shr...         RELEVANT   \n",
       "..                                                ...              ...   \n",
       "95        How does aging meat improve its tenderness?         RELEVANT   \n",
       "96   Is Saigon cinnamon suitable for making ganaches?         RELEVANT   \n",
       "97  What is the first step in preparing a basic om...         RELEVANT   \n",
       "98            How do I implement HACCP in my kitchen?         RELEVANT   \n",
       "99  What techniques can I use to enhance the flavo...         RELEVANT   \n",
       "\n",
       "                                          explanation  \n",
       "0   The generated answer directly addresses the qu...  \n",
       "1   The generated answer directly addresses the qu...  \n",
       "2   The generated answer directly addresses the qu...  \n",
       "3   The generated answer acknowledges the lack of ...  \n",
       "4   The generated answer provides a reasonable tem...  \n",
       "..                                                ...  \n",
       "95  The generated answer directly addresses the qu...  \n",
       "96  The generated answer directly addresses the qu...  \n",
       "97  The generated answer directly addresses the qu...  \n",
       "98  The generated answer provides a comprehensive ...  \n",
       "99  The generated answer directly addresses the qu...  \n",
       "\n",
       "[100 rows x 5 columns]"
      ]
     },
     "execution_count": 96,
     "metadata": {},
     "output_type": "execute_result"
    }
   ],
   "source": [
    "df_eval = pd.DataFrame(evaluations_4o, columns=['record','answer', 'evaluation'])\n",
    "\n",
    "df_eval['id'] = df_eval.record.apply(lambda d: d['id'])\n",
    "df_eval['question'] = df_eval.record.apply(lambda d: d['question'])\n",
    "\n",
    "df_eval['evaluation'] = df_eval['evaluation'].apply(json.loads)\n",
    "df_eval['relevance'] = df_eval.evaluation.apply(lambda d: d['Relevance'])\n",
    "df_eval['explanation'] = df_eval.evaluation.apply(lambda d: d['Explanation'])\n",
    "\n",
    "del df_eval['record']\n",
    "del df_eval['evaluation']\n",
    "\n",
    "df_eval"
   ]
  },
  {
   "cell_type": "code",
   "execution_count": 97,
   "id": "33984ffb-0b51-4c64-9681-c25991e105db",
   "metadata": {},
   "outputs": [
    {
     "data": {
      "text/plain": [
       "relevance\n",
       "RELEVANT           87\n",
       "PARTLY_RELEVANT    12\n",
       "NON_RELEVANT        1\n",
       "Name: count, dtype: int64"
      ]
     },
     "execution_count": 97,
     "metadata": {},
     "output_type": "execute_result"
    }
   ],
   "source": [
    "df_eval.relevance.value_counts()"
   ]
  },
  {
   "cell_type": "code",
   "execution_count": null,
   "id": "413c71c3",
   "metadata": {},
   "outputs": [],
   "source": []
  }
 ],
 "metadata": {
  "kernelspec": {
   "display_name": "llmzc_1",
   "language": "python",
   "name": "python3"
  },
  "language_info": {
   "codemirror_mode": {
    "name": "ipython",
    "version": 3
   },
   "file_extension": ".py",
   "mimetype": "text/x-python",
   "name": "python",
   "nbconvert_exporter": "python",
   "pygments_lexer": "ipython3",
   "version": "3.13.5"
  }
 },
 "nbformat": 4,
 "nbformat_minor": 5
}
