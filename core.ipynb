{
 "cells": [
  {
   "cell_type": "code",
   "execution_count": 1,
   "id": "11c1a2bb-9693-4e9b-9bc1-a162cddc50b6",
   "metadata": {},
   "outputs": [],
   "source": [
    "import pandas as pd\n",
    "import os, json\n",
    "from tqdm.auto import tqdm\n",
    "from openai import OpenAI\n",
    "\n",
    "#!pip install hyperopt\n",
    "from hyperopt import fmin, tpe, hp, STATUS_OK, Trials\n",
    "from hyperopt.pyll import scope"
   ]
  },
  {
   "cell_type": "code",
   "execution_count": 19,
   "id": "b3bc1b22-621e-436f-85a8-704323d93dff",
   "metadata": {},
   "outputs": [],
   "source": [
    "#!wget https://raw.githubusercontent.com/alexeygrigorev/minsearch/main/minsearch.py\n",
    "#!pip install minsearch\n",
    "import minsearch"
   ]
  },
  {
   "cell_type": "markdown",
   "id": "c11302d2-1990-4fe8-becf-24a9f592f418",
   "metadata": {},
   "source": [
    "### Ingestion"
   ]
  },
  {
   "cell_type": "code",
   "execution_count": 20,
   "id": "c329a05b-198e-43f4-bcfd-13104407e3c5",
   "metadata": {},
   "outputs": [
    {
     "data": {
      "text/plain": [
       "Index(['ID', 'type', 'question', 'response'], dtype='object')"
      ]
     },
     "execution_count": 20,
     "metadata": {},
     "output_type": "execute_result"
    }
   ],
   "source": [
    "df_ck = pd.read_csv('cooking_knowledge.csv')\n",
    "df_ck.insert(0, 'ID', df_ck.index)\n",
    "df_ck.columns"
   ]
  },
  {
   "cell_type": "code",
   "execution_count": 21,
   "id": "4b0217a0-d0e3-4918-8f7b-ae83b27ce6a7",
   "metadata": {},
   "outputs": [],
   "source": [
    "documents = df_ck.to_dict(orient='records')"
   ]
  },
  {
   "cell_type": "code",
   "execution_count": 22,
   "id": "150926a8-7ae4-4bdd-8c2b-b6447994a934",
   "metadata": {},
   "outputs": [
    {
     "data": {
      "text/plain": [
       "<minsearch.Index at 0x1382ec690>"
      ]
     },
     "execution_count": 22,
     "metadata": {},
     "output_type": "execute_result"
    }
   ],
   "source": [
    "index = minsearch.Index(\n",
    "    text_fields=['type', 'question', 'response'],\n",
    "    keyword_fields=['ID']\n",
    ")\n",
    "index.fit(documents)"
   ]
  },
  {
   "cell_type": "code",
   "execution_count": 23,
   "id": "1b94cfec-6ab2-417f-9642-967b4698bdf3",
   "metadata": {},
   "outputs": [],
   "source": [
    "#query = 'give me info on ribs'\n",
    "#index.search(query, num_results=10)"
   ]
  },
  {
   "cell_type": "markdown",
   "id": "8ee7596b-2f2d-4701-a036-4fb9b04372e7",
   "metadata": {},
   "source": [
    "### RAG FLOW"
   ]
  },
  {
   "cell_type": "code",
   "execution_count": 24,
   "id": "cf02e6d0-ec6b-42c3-8eac-a80815fb3d66",
   "metadata": {},
   "outputs": [],
   "source": [
    "client = OpenAI()\n",
    "\n",
    "entry_template = \"\"\"\n",
    "    type: {type}\n",
    "    question: {question}\n",
    "    answer: {response}\n",
    "    \"\"\".strip()\n",
    "\n",
    "prompt_template = \"\"\"\n",
    "    You're a cooking course instructor. Answer the QUESTION based on the CONTEXT from the cooking knowledge database.\n",
    "    Use only the facts from the CONTEXT when answering the QUESTION.\n",
    "    \n",
    "    QUESTION: {question}\n",
    "    \n",
    "    CONTEXT: \n",
    "    {context}\n",
    "    \"\"\".strip()"
   ]
  },
  {
   "cell_type": "code",
   "execution_count": null,
   "id": "2d4f6846-cec9-42ec-882e-b2675d90cb5b",
   "metadata": {},
   "outputs": [],
   "source": [
    "os.environ['OPENAI_API_KEY'] = 'OPENAI_API_KEY'"
   ]
  },
  {
   "cell_type": "code",
   "execution_count": 26,
   "id": "19872c85-6220-4251-8eb6-f79d84af7c75",
   "metadata": {},
   "outputs": [],
   "source": [
    "def search(query):\n",
    "    boost = {}\n",
    "\n",
    "    results = index.search(\n",
    "        query=query,\n",
    "        filter_dict={},\n",
    "        boost_dict=boost,\n",
    "        num_results=10\n",
    "    )\n",
    "    return results"
   ]
  },
  {
   "cell_type": "code",
   "execution_count": 27,
   "id": "514b3797-031e-455c-97f6-637c090320d1",
   "metadata": {},
   "outputs": [],
   "source": [
    "def build_prompt(query, search_results):\n",
    "    context = \"\"\n",
    "    \n",
    "    for doc in search_results:\n",
    "        context = context + entry_template.format(**doc) + \"\\n\\n\"\n",
    "            \n",
    "    prompt = prompt_template.format(question=query, context=context).strip()\n",
    "    return prompt"
   ]
  },
  {
   "cell_type": "code",
   "execution_count": 28,
   "id": "370ca5aa-fc90-42fc-9d0c-9cfb2fd797a4",
   "metadata": {},
   "outputs": [],
   "source": [
    "def llm(prompt, model='gpt-4o-mini'):\n",
    "    response = client.chat.completions.create(\n",
    "        model=model,\n",
    "        messages=[{\"role\": \"user\", \"content\": prompt}]\n",
    "    )\n",
    "    return response.choices[0].message.content\n",
    "    \n",
    "def rag(query, model='gpt-4o-mini'):\n",
    "    search_results = search(query)\n",
    "    prompt = build_prompt(query, search_results)\n",
    "    answer = llm(prompt, model=model)\n",
    "    return answer"
   ]
  },
  {
   "cell_type": "code",
   "execution_count": 29,
   "id": "9154463a-13f9-4aca-bfa7-a60eb6d5e31a",
   "metadata": {},
   "outputs": [],
   "source": [
    "query = 'give me info on barbecue'"
   ]
  },
  {
   "cell_type": "code",
   "execution_count": 30,
   "id": "1e7f7c17-620b-42e3-a847-2811329901bf",
   "metadata": {},
   "outputs": [],
   "source": [
    "search_results = search(query)\n",
    "prompt = build_prompt(query, search_results)"
   ]
  },
  {
   "cell_type": "code",
   "execution_count": 31,
   "id": "9bbf6364-34cf-4db1-a117-6be9e27d271d",
   "metadata": {},
   "outputs": [
    {
     "name": "stdout",
     "output_type": "stream",
     "text": [
      "Barbecue is a great cooking method for beef ribs among other meats. To enhance the hearty flavor of beef ribs, it's recommended to accompany them with barbecue sauce and spice rubs. Other techniques for cooking beef ribs include braising and dry-roasting.\n"
     ]
    }
   ],
   "source": [
    "answer = rag(query)\n",
    "print(answer)"
   ]
  },
  {
   "cell_type": "markdown",
   "id": "1940e00b-910f-441d-a9cd-e4b4f704261d",
   "metadata": {},
   "source": [
    "### Retrieval Evaluation"
   ]
  },
  {
   "cell_type": "code",
   "execution_count": 32,
   "id": "4c47bdc7-31ea-402f-b6a8-610c4332af93",
   "metadata": {},
   "outputs": [
    {
     "data": {
      "text/html": [
       "<div>\n",
       "<style scoped>\n",
       "    .dataframe tbody tr th:only-of-type {\n",
       "        vertical-align: middle;\n",
       "    }\n",
       "\n",
       "    .dataframe tbody tr th {\n",
       "        vertical-align: top;\n",
       "    }\n",
       "\n",
       "    .dataframe thead th {\n",
       "        text-align: right;\n",
       "    }\n",
       "</style>\n",
       "<table border=\"1\" class=\"dataframe\">\n",
       "  <thead>\n",
       "    <tr style=\"text-align: right;\">\n",
       "      <th></th>\n",
       "      <th>id</th>\n",
       "      <th>question</th>\n",
       "    </tr>\n",
       "  </thead>\n",
       "  <tbody>\n",
       "    <tr>\n",
       "      <th>0</th>\n",
       "      <td>0</td>\n",
       "      <td>Can you explain the HACCP system in detail?</td>\n",
       "    </tr>\n",
       "    <tr>\n",
       "      <th>1</th>\n",
       "      <td>0</td>\n",
       "      <td>What steps are involved in implementing HACCP?</td>\n",
       "    </tr>\n",
       "    <tr>\n",
       "      <th>2</th>\n",
       "      <td>0</td>\n",
       "      <td>How does HACCP contribute to food safety?</td>\n",
       "    </tr>\n",
       "    <tr>\n",
       "      <th>3</th>\n",
       "      <td>0</td>\n",
       "      <td>What are some common hazards identified by HACCP?</td>\n",
       "    </tr>\n",
       "    <tr>\n",
       "      <th>4</th>\n",
       "      <td>0</td>\n",
       "      <td>Why is HACCP important for food production?</td>\n",
       "    </tr>\n",
       "  </tbody>\n",
       "</table>\n",
       "</div>"
      ],
      "text/plain": [
       "   id                                           question\n",
       "0   0        Can you explain the HACCP system in detail?\n",
       "1   0     What steps are involved in implementing HACCP?\n",
       "2   0          How does HACCP contribute to food safety?\n",
       "3   0  What are some common hazards identified by HACCP?\n",
       "4   0        Why is HACCP important for food production?"
      ]
     },
     "execution_count": 32,
     "metadata": {},
     "output_type": "execute_result"
    }
   ],
   "source": [
    "df_questions = pd.read_csv('ground_truth.csv')\n",
    "df_questions.head()"
   ]
  },
  {
   "cell_type": "code",
   "execution_count": 33,
   "id": "915e1cf4-4b09-48da-a774-99c38afa6bc2",
   "metadata": {},
   "outputs": [
    {
     "data": {
      "text/plain": [
       "{'id': 0, 'question': 'Can you explain the HACCP system in detail?'}"
      ]
     },
     "execution_count": 33,
     "metadata": {},
     "output_type": "execute_result"
    }
   ],
   "source": [
    "ground_truth = df_questions.to_dict(orient='records')\n",
    "ground_truth[0]"
   ]
  },
  {
   "cell_type": "code",
   "execution_count": 34,
   "id": "4f713851-d2df-408e-b6b1-0c06d12f8115",
   "metadata": {},
   "outputs": [],
   "source": [
    "def minsearch_search(query):\n",
    "    boost = {}\n",
    "\n",
    "    results = index.search(\n",
    "        query=query,\n",
    "        filter_dict={},\n",
    "        boost_dict=boost,\n",
    "        num_results=10\n",
    "    )\n",
    "    return results"
   ]
  },
  {
   "cell_type": "code",
   "execution_count": 35,
   "id": "7431ed93-d3e7-4553-9961-f7649bd8225e",
   "metadata": {},
   "outputs": [],
   "source": [
    "def hit_rate(relevance_total):\n",
    "    cnt = 0\n",
    "\n",
    "    for line in relevance_total:\n",
    "        if True in line:\n",
    "            cnt = cnt + 1\n",
    "\n",
    "    return cnt / len(relevance_total)\n",
    "    \n",
    "def mrr(relevance_total):\n",
    "    total_score = 0.0\n",
    "\n",
    "    for line in relevance_total:\n",
    "        for rank in range(len(line)):\n",
    "            if line[rank] == True:\n",
    "                total_score = total_score + 1 / (rank + 1)\n",
    "\n",
    "    return total_score / len(relevance_total)"
   ]
  },
  {
   "cell_type": "code",
   "execution_count": 36,
   "id": "5c6e4516-1d70-4648-a623-e2af1a666b39",
   "metadata": {},
   "outputs": [],
   "source": [
    "def evaluate(ground_truth, search_function):\n",
    "    relevance_total = []\n",
    "\n",
    "    for q in tqdm(ground_truth):\n",
    "        doc_id = q['id']\n",
    "        results = search_function(q)\n",
    "        relevance = [d['ID'] == doc_id for d in results]\n",
    "        relevance_total.append(relevance)\n",
    "\n",
    "    return {\n",
    "        'hit_rate': hit_rate(relevance_total),\n",
    "        'mrr': mrr(relevance_total),\n",
    "    }"
   ]
  },
  {
   "cell_type": "markdown",
   "id": "68a2bef0-5444-45fd-b11f-d1976f00222b",
   "metadata": {},
   "source": [
    "### Retrieval \n",
    "The basic approach - using non-boosed minsearch"
   ]
  },
  {
   "cell_type": "code",
   "execution_count": 37,
   "id": "00037f37-d5ed-42c2-aea8-02a985f7ba4e",
   "metadata": {},
   "outputs": [
    {
     "data": {
      "application/vnd.jupyter.widget-view+json": {
       "model_id": "9558b0c9a96e4ee2bc12ce4b399af4bc",
       "version_major": 2,
       "version_minor": 0
      },
      "text/plain": [
       "  0%|          | 0/500 [00:00<?, ?it/s]"
      ]
     },
     "metadata": {},
     "output_type": "display_data"
    },
    {
     "data": {
      "text/plain": [
       "{'hit_rate': 0.836, 'mrr': 0.640483333333333}"
      ]
     },
     "execution_count": 37,
     "metadata": {},
     "output_type": "execute_result"
    }
   ],
   "source": [
    "evaluate(ground_truth, lambda q: minsearch_search(q['question']))"
   ]
  },
  {
   "cell_type": "code",
   "execution_count": 38,
   "id": "5c8eb80f-9d8e-42ef-94ea-fa920f9d005c",
   "metadata": {},
   "outputs": [],
   "source": [
    "df_validation = df_questions[:200]\n",
    "df_test = df_questions[200:]"
   ]
  },
  {
   "cell_type": "markdown",
   "id": "41b87c59-ea40-4175-9aa7-97fe26e4a938",
   "metadata": {},
   "source": [
    "## Finding the best parameters"
   ]
  },
  {
   "cell_type": "code",
   "execution_count": 39,
   "id": "ca81300a-bec7-41f2-8e8e-00c0a01ec49b",
   "metadata": {},
   "outputs": [],
   "source": [
    "import random\n",
    "\n",
    "def simple_optimize(param_ranges, objective_function, n_iterations=10):\n",
    "    best_params = None\n",
    "    best_score = float('-inf')  # Assuming we're minimizing. Use float('-inf') if maximizing.\n",
    "\n",
    "    for _ in range(n_iterations):\n",
    "        # Generate random parameters\n",
    "        current_params = {}\n",
    "        for param, (min_val, max_val) in param_ranges.items():\n",
    "            if isinstance(min_val, int) and isinstance(max_val, int):\n",
    "                current_params[param] = random.randint(min_val, max_val)\n",
    "            else:\n",
    "                current_params[param] = random.uniform(min_val, max_val)\n",
    "        \n",
    "        # Evaluate the objective function\n",
    "        current_score = objective_function(current_params)\n",
    "        \n",
    "        # Update best if current is better\n",
    "        if current_score > best_score:  # Change to > if maximizing\n",
    "            best_score = current_score\n",
    "            best_params = current_params\n",
    "    \n",
    "    return best_params, best_score"
   ]
  },
  {
   "cell_type": "code",
   "execution_count": 40,
   "id": "a05d9647-c320-4c0a-b398-21eb4b877846",
   "metadata": {},
   "outputs": [],
   "source": [
    "gt_val = df_validation.to_dict(orient='records')"
   ]
  },
  {
   "cell_type": "code",
   "execution_count": 41,
   "id": "dbfadc98-0262-4852-a4cb-e9ecc23895cf",
   "metadata": {},
   "outputs": [],
   "source": [
    "def minsearch_search(query, boost=None):\n",
    "    if boost is None:\n",
    "        boost = {}\n",
    "\n",
    "    results = index.search(\n",
    "        query=query,\n",
    "        filter_dict={},\n",
    "        boost_dict=boost,\n",
    "        num_results=10\n",
    "    )\n",
    "\n",
    "    return results"
   ]
  },
  {
   "cell_type": "code",
   "execution_count": 42,
   "id": "d5e21d11-e0d0-40fc-bcd0-7dce06fef9bc",
   "metadata": {},
   "outputs": [],
   "source": [
    "param_ranges = {\n",
    "    'id': (0.0, 3.0),\n",
    "    'question': (0.0, 3.0),\n",
    "    'response': (0.0, 3.0)\n",
    "}\n",
    "\n",
    "def objective(boost_params):\n",
    "    def search_function(q):\n",
    "        return minsearch_search(q['question'], boost_params)\n",
    "\n",
    "    results = evaluate(gt_val, search_function)\n",
    "    return results['mrr']"
   ]
  },
  {
   "cell_type": "code",
   "execution_count": 43,
   "id": "effdf28a-323a-4295-bfc6-4dd3bf4f7cab",
   "metadata": {},
   "outputs": [
    {
     "data": {
      "application/vnd.jupyter.widget-view+json": {
       "model_id": "1e1259d105094af4a9d6f27393cd9b37",
       "version_major": 2,
       "version_minor": 0
      },
      "text/plain": [
       "  0%|          | 0/200 [00:00<?, ?it/s]"
      ]
     },
     "metadata": {},
     "output_type": "display_data"
    },
    {
     "data": {
      "application/vnd.jupyter.widget-view+json": {
       "model_id": "7428689cb7c84c6493a5a9be45dbcbb8",
       "version_major": 2,
       "version_minor": 0
      },
      "text/plain": [
       "  0%|          | 0/200 [00:00<?, ?it/s]"
      ]
     },
     "metadata": {},
     "output_type": "display_data"
    },
    {
     "data": {
      "application/vnd.jupyter.widget-view+json": {
       "model_id": "2a2724cdffad4de6a832033f850cafe7",
       "version_major": 2,
       "version_minor": 0
      },
      "text/plain": [
       "  0%|          | 0/200 [00:00<?, ?it/s]"
      ]
     },
     "metadata": {},
     "output_type": "display_data"
    },
    {
     "data": {
      "application/vnd.jupyter.widget-view+json": {
       "model_id": "8228fcde552a48fb9062b2130db91c7c",
       "version_major": 2,
       "version_minor": 0
      },
      "text/plain": [
       "  0%|          | 0/200 [00:00<?, ?it/s]"
      ]
     },
     "metadata": {},
     "output_type": "display_data"
    },
    {
     "data": {
      "application/vnd.jupyter.widget-view+json": {
       "model_id": "62f698f0bb214ce5ae4f6dde5dbee8df",
       "version_major": 2,
       "version_minor": 0
      },
      "text/plain": [
       "  0%|          | 0/200 [00:00<?, ?it/s]"
      ]
     },
     "metadata": {},
     "output_type": "display_data"
    },
    {
     "data": {
      "application/vnd.jupyter.widget-view+json": {
       "model_id": "105ba7d205f243a39e928971bdacf393",
       "version_major": 2,
       "version_minor": 0
      },
      "text/plain": [
       "  0%|          | 0/200 [00:00<?, ?it/s]"
      ]
     },
     "metadata": {},
     "output_type": "display_data"
    },
    {
     "data": {
      "application/vnd.jupyter.widget-view+json": {
       "model_id": "ac44b5e9101f41cc88eab644c386d247",
       "version_major": 2,
       "version_minor": 0
      },
      "text/plain": [
       "  0%|          | 0/200 [00:00<?, ?it/s]"
      ]
     },
     "metadata": {},
     "output_type": "display_data"
    },
    {
     "data": {
      "application/vnd.jupyter.widget-view+json": {
       "model_id": "86a8269dc5d9417d8987d7185bf88c32",
       "version_major": 2,
       "version_minor": 0
      },
      "text/plain": [
       "  0%|          | 0/200 [00:00<?, ?it/s]"
      ]
     },
     "metadata": {},
     "output_type": "display_data"
    },
    {
     "data": {
      "application/vnd.jupyter.widget-view+json": {
       "model_id": "2eb49af56b9c42609c0f4b7b82e79c74",
       "version_major": 2,
       "version_minor": 0
      },
      "text/plain": [
       "  0%|          | 0/200 [00:00<?, ?it/s]"
      ]
     },
     "metadata": {},
     "output_type": "display_data"
    },
    {
     "data": {
      "application/vnd.jupyter.widget-view+json": {
       "model_id": "bc7cb2b2e71147d499dacd0de879376e",
       "version_major": 2,
       "version_minor": 0
      },
      "text/plain": [
       "  0%|          | 0/200 [00:00<?, ?it/s]"
      ]
     },
     "metadata": {},
     "output_type": "display_data"
    },
    {
     "data": {
      "application/vnd.jupyter.widget-view+json": {
       "model_id": "8ddfc065caab4340a59c26f3bd54c875",
       "version_major": 2,
       "version_minor": 0
      },
      "text/plain": [
       "  0%|          | 0/200 [00:00<?, ?it/s]"
      ]
     },
     "metadata": {},
     "output_type": "display_data"
    },
    {
     "data": {
      "application/vnd.jupyter.widget-view+json": {
       "model_id": "5616af7106b84b0d8567d2708fe71b1a",
       "version_major": 2,
       "version_minor": 0
      },
      "text/plain": [
       "  0%|          | 0/200 [00:00<?, ?it/s]"
      ]
     },
     "metadata": {},
     "output_type": "display_data"
    },
    {
     "data": {
      "application/vnd.jupyter.widget-view+json": {
       "model_id": "fee0fb88b9a040f39cb6ad9096e41822",
       "version_major": 2,
       "version_minor": 0
      },
      "text/plain": [
       "  0%|          | 0/200 [00:00<?, ?it/s]"
      ]
     },
     "metadata": {},
     "output_type": "display_data"
    },
    {
     "data": {
      "application/vnd.jupyter.widget-view+json": {
       "model_id": "d07ed6f929f4479cb4185958d41f2fe3",
       "version_major": 2,
       "version_minor": 0
      },
      "text/plain": [
       "  0%|          | 0/200 [00:00<?, ?it/s]"
      ]
     },
     "metadata": {},
     "output_type": "display_data"
    },
    {
     "data": {
      "application/vnd.jupyter.widget-view+json": {
       "model_id": "8e6fb706dfa945f3b11b3c33136ef5ea",
       "version_major": 2,
       "version_minor": 0
      },
      "text/plain": [
       "  0%|          | 0/200 [00:00<?, ?it/s]"
      ]
     },
     "metadata": {},
     "output_type": "display_data"
    },
    {
     "data": {
      "application/vnd.jupyter.widget-view+json": {
       "model_id": "59c3a992794e43848504b3ec56dc54c5",
       "version_major": 2,
       "version_minor": 0
      },
      "text/plain": [
       "  0%|          | 0/200 [00:00<?, ?it/s]"
      ]
     },
     "metadata": {},
     "output_type": "display_data"
    },
    {
     "data": {
      "application/vnd.jupyter.widget-view+json": {
       "model_id": "fc2726b8d6c246b0a4d13568af89ebf9",
       "version_major": 2,
       "version_minor": 0
      },
      "text/plain": [
       "  0%|          | 0/200 [00:00<?, ?it/s]"
      ]
     },
     "metadata": {},
     "output_type": "display_data"
    },
    {
     "data": {
      "application/vnd.jupyter.widget-view+json": {
       "model_id": "4661750c2dc54002a7628e9112596479",
       "version_major": 2,
       "version_minor": 0
      },
      "text/plain": [
       "  0%|          | 0/200 [00:00<?, ?it/s]"
      ]
     },
     "metadata": {},
     "output_type": "display_data"
    },
    {
     "data": {
      "application/vnd.jupyter.widget-view+json": {
       "model_id": "53e8503032904e04bd1a09240bb77f60",
       "version_major": 2,
       "version_minor": 0
      },
      "text/plain": [
       "  0%|          | 0/200 [00:00<?, ?it/s]"
      ]
     },
     "metadata": {},
     "output_type": "display_data"
    },
    {
     "data": {
      "application/vnd.jupyter.widget-view+json": {
       "model_id": "4a59f9bc4af94ebfb0cc0c4685caff6f",
       "version_major": 2,
       "version_minor": 0
      },
      "text/plain": [
       "  0%|          | 0/200 [00:00<?, ?it/s]"
      ]
     },
     "metadata": {},
     "output_type": "display_data"
    },
    {
     "data": {
      "text/plain": [
       "({'id': 2.3518356647787306,\n",
       "  'question': 0.7409743639937042,\n",
       "  'response': 1.2482714535743846},\n",
       " 0.7507499999999999)"
      ]
     },
     "execution_count": 43,
     "metadata": {},
     "output_type": "execute_result"
    }
   ],
   "source": [
    "simple_optimize(param_ranges, objective, n_iterations=20)"
   ]
  },
  {
   "cell_type": "code",
   "execution_count": 44,
   "id": "75fd285b-f6d8-46bf-b361-366de6778f38",
   "metadata": {},
   "outputs": [
    {
     "data": {
      "application/vnd.jupyter.widget-view+json": {
       "model_id": "887a8d5835174689ad1cfe0e3ec2b9f1",
       "version_major": 2,
       "version_minor": 0
      },
      "text/plain": [
       "  0%|          | 0/500 [00:00<?, ?it/s]"
      ]
     },
     "metadata": {},
     "output_type": "display_data"
    },
    {
     "data": {
      "text/plain": [
       "{'hit_rate': 0.856, 'mrr': 0.6647404761904759}"
      ]
     },
     "execution_count": 44,
     "metadata": {},
     "output_type": "execute_result"
    }
   ],
   "source": [
    "def minsearch_improved(query):\n",
    "    boost = {\n",
    "            'id': 2.7692628744506598,\n",
    "            'question': 0.3243327894022373,\n",
    "            'response': 0.5744326020937277}\n",
    "\n",
    "    results = index.search(\n",
    "        query=query,\n",
    "        filter_dict={},\n",
    "        boost_dict=boost,\n",
    "        num_results=10\n",
    "    )\n",
    "    return results\n",
    "\n",
    "evaluate(ground_truth, lambda q: minsearch_improved(q['question']))"
   ]
  },
  {
   "cell_type": "markdown",
   "id": "624b568f-e4ad-47e5-a81c-848be243cec2",
   "metadata": {},
   "source": [
    "### RAG Evaluation"
   ]
  },
  {
   "cell_type": "code",
   "execution_count": 45,
   "id": "9d3ffb69-891a-4244-8ebc-11412bc4ab93",
   "metadata": {},
   "outputs": [],
   "source": [
    "prompt2_template = \"\"\"\n",
    "You are an expert evaluator for a Retrieval-Augmented Generation (RAG) system.\n",
    "Your task is to analyze the relevance of the generated answer to the given question.\n",
    "Based on the relevance of the generated answer, you will classify it\n",
    "as \"NON_RELEVANT\", \"PARTLY_RELEVANT\", or \"RELEVANT\".\n",
    "\n",
    "Here is the data for evaluation:\n",
    "\n",
    "Question: {question}\n",
    "Generated Answer: {answer_llm}\n",
    "\n",
    "Please analyze the content and context of the generated answer in relation to the question\n",
    "and provide your evaluation in parsable JSON without using code blocks:\n",
    "\n",
    "{{\"Relevance\": \"NON_RELEVANT\" | \"PARTLY_RELEVANT\" | \"RELEVANT\",\n",
    "  \"Explanation\": \"[Provide a brief explanation for your evaluation]\"}}\n",
    "\"\"\".strip()"
   ]
  },
  {
   "cell_type": "code",
   "execution_count": 46,
   "id": "bd7e0f34-f7ad-48c1-b500-f3baeae3cfe0",
   "metadata": {},
   "outputs": [],
   "source": [
    "df_sample = df_questions.sample(n=100, random_state=1)\n",
    "sample = df_sample.to_dict(orient='records')"
   ]
  },
  {
   "cell_type": "code",
   "execution_count": 47,
   "id": "bc3a4256-3d5e-4a11-bf2d-d7580561373a",
   "metadata": {},
   "outputs": [
    {
     "data": {
      "application/vnd.jupyter.widget-view+json": {
       "model_id": "3f728e43261c4fde91a051ede76a0634",
       "version_major": 2,
       "version_minor": 0
      },
      "text/plain": [
       "  0%|          | 0/100 [00:00<?, ?it/s]"
      ]
     },
     "metadata": {},
     "output_type": "display_data"
    }
   ],
   "source": [
    "evaluations = []\n",
    "\n",
    "for record in tqdm(sample):\n",
    "        \n",
    "    question = record['question']\n",
    "    answer_llm = rag(question)\n",
    "\n",
    "    prompt = prompt2_template.format(\n",
    "        question=question,\n",
    "        answer_llm=answer_llm)\n",
    "    evaluation = llm(prompt)\n",
    "\n",
    "    evaluations.append((record, answer_llm, evaluation))"
   ]
  },
  {
   "cell_type": "code",
   "execution_count": 48,
   "id": "3bdaf059-d54f-4ea6-9044-7928fa27babc",
   "metadata": {},
   "outputs": [
    {
     "data": {
      "text/html": [
       "<div>\n",
       "<style scoped>\n",
       "    .dataframe tbody tr th:only-of-type {\n",
       "        vertical-align: middle;\n",
       "    }\n",
       "\n",
       "    .dataframe tbody tr th {\n",
       "        vertical-align: top;\n",
       "    }\n",
       "\n",
       "    .dataframe thead th {\n",
       "        text-align: right;\n",
       "    }\n",
       "</style>\n",
       "<table border=\"1\" class=\"dataframe\">\n",
       "  <thead>\n",
       "    <tr style=\"text-align: right;\">\n",
       "      <th></th>\n",
       "      <th>record</th>\n",
       "      <th>answer</th>\n",
       "      <th>evaluation</th>\n",
       "    </tr>\n",
       "  </thead>\n",
       "  <tbody>\n",
       "    <tr>\n",
       "      <th>0</th>\n",
       "      <td>{'id': 60, 'question': 'Is microwave cooking s...</td>\n",
       "      <td>Microwave cooking is not safe for all types of...</td>\n",
       "      <td>{\"Relevance\": \"RELEVANT\",\\n  \"Explanation\": \"T...</td>\n",
       "    </tr>\n",
       "    <tr>\n",
       "      <th>1</th>\n",
       "      <td>{'id': 68, 'question': 'How does the sous vide...</td>\n",
       "      <td>The sous vide method ensures even doneness by ...</td>\n",
       "      <td>{\"Relevance\": \"RELEVANT\", \"Explanation\": \"The ...</td>\n",
       "    </tr>\n",
       "    <tr>\n",
       "      <th>2</th>\n",
       "      <td>{'id': 9, 'question': 'What is the ideal tempe...</td>\n",
       "      <td>The ideal temperature for deep frying is betwe...</td>\n",
       "      <td>{\"Relevance\": \"RELEVANT\", \"Explanation\": \"The ...</td>\n",
       "    </tr>\n",
       "    <tr>\n",
       "      <th>3</th>\n",
       "      <td>{'id': 13, 'question': 'How do you achieve the...</td>\n",
       "      <td>To achieve the pale color in a Fricassee, it i...</td>\n",
       "      <td>{\"Relevance\": \"RELEVANT\", \"Explanation\": \"The ...</td>\n",
       "    </tr>\n",
       "    <tr>\n",
       "      <th>4</th>\n",
       "      <td>{'id': 95, 'question': 'Are there any tips for...</td>\n",
       "      <td>To achieve flavorful results when braising, it...</td>\n",
       "      <td>{\"Relevance\": \"RELEVANT\", \"Explanation\": \"The ...</td>\n",
       "    </tr>\n",
       "  </tbody>\n",
       "</table>\n",
       "</div>"
      ],
      "text/plain": [
       "                                              record  \\\n",
       "0  {'id': 60, 'question': 'Is microwave cooking s...   \n",
       "1  {'id': 68, 'question': 'How does the sous vide...   \n",
       "2  {'id': 9, 'question': 'What is the ideal tempe...   \n",
       "3  {'id': 13, 'question': 'How do you achieve the...   \n",
       "4  {'id': 95, 'question': 'Are there any tips for...   \n",
       "\n",
       "                                              answer  \\\n",
       "0  Microwave cooking is not safe for all types of...   \n",
       "1  The sous vide method ensures even doneness by ...   \n",
       "2  The ideal temperature for deep frying is betwe...   \n",
       "3  To achieve the pale color in a Fricassee, it i...   \n",
       "4  To achieve flavorful results when braising, it...   \n",
       "\n",
       "                                          evaluation  \n",
       "0  {\"Relevance\": \"RELEVANT\",\\n  \"Explanation\": \"T...  \n",
       "1  {\"Relevance\": \"RELEVANT\", \"Explanation\": \"The ...  \n",
       "2  {\"Relevance\": \"RELEVANT\", \"Explanation\": \"The ...  \n",
       "3  {\"Relevance\": \"RELEVANT\", \"Explanation\": \"The ...  \n",
       "4  {\"Relevance\": \"RELEVANT\", \"Explanation\": \"The ...  "
      ]
     },
     "execution_count": 48,
     "metadata": {},
     "output_type": "execute_result"
    }
   ],
   "source": [
    "df_eval = pd.DataFrame(evaluations, columns=['record','answer', 'evaluation'])\n",
    "df_eval.head()"
   ]
  },
  {
   "cell_type": "code",
   "execution_count": 49,
   "id": "a4b40f92-5484-4332-a207-cf32856ebee8",
   "metadata": {},
   "outputs": [
    {
     "data": {
      "text/html": [
       "<div>\n",
       "<style scoped>\n",
       "    .dataframe tbody tr th:only-of-type {\n",
       "        vertical-align: middle;\n",
       "    }\n",
       "\n",
       "    .dataframe tbody tr th {\n",
       "        vertical-align: top;\n",
       "    }\n",
       "\n",
       "    .dataframe thead th {\n",
       "        text-align: right;\n",
       "    }\n",
       "</style>\n",
       "<table border=\"1\" class=\"dataframe\">\n",
       "  <thead>\n",
       "    <tr style=\"text-align: right;\">\n",
       "      <th></th>\n",
       "      <th>answer</th>\n",
       "      <th>id</th>\n",
       "      <th>question</th>\n",
       "      <th>relevance</th>\n",
       "      <th>explanation</th>\n",
       "    </tr>\n",
       "  </thead>\n",
       "  <tbody>\n",
       "    <tr>\n",
       "      <th>0</th>\n",
       "      <td>Microwave cooking is not safe for all types of...</td>\n",
       "      <td>60</td>\n",
       "      <td>Is microwave cooking safe for all types of food?</td>\n",
       "      <td>RELEVANT</td>\n",
       "      <td>The generated answer directly addresses the qu...</td>\n",
       "    </tr>\n",
       "    <tr>\n",
       "      <th>1</th>\n",
       "      <td>The sous vide method ensures even doneness by ...</td>\n",
       "      <td>68</td>\n",
       "      <td>How does the sous vide method ensure even done...</td>\n",
       "      <td>RELEVANT</td>\n",
       "      <td>The generated answer directly addresses how th...</td>\n",
       "    </tr>\n",
       "    <tr>\n",
       "      <th>2</th>\n",
       "      <td>The ideal temperature for deep frying is betwe...</td>\n",
       "      <td>9</td>\n",
       "      <td>What is the ideal temperature for deep frying?</td>\n",
       "      <td>RELEVANT</td>\n",
       "      <td>The generated answer directly addresses the qu...</td>\n",
       "    </tr>\n",
       "    <tr>\n",
       "      <th>3</th>\n",
       "      <td>To achieve the pale color in a Fricassee, it i...</td>\n",
       "      <td>13</td>\n",
       "      <td>How do you achieve the pale color in a Fricassee?</td>\n",
       "      <td>RELEVANT</td>\n",
       "      <td>The generated answer directly addresses the qu...</td>\n",
       "    </tr>\n",
       "    <tr>\n",
       "      <th>4</th>\n",
       "      <td>To achieve flavorful results when braising, it...</td>\n",
       "      <td>95</td>\n",
       "      <td>Are there any tips for achieving flavorful res...</td>\n",
       "      <td>RELEVANT</td>\n",
       "      <td>The generated answer provides specific tips fo...</td>\n",
       "    </tr>\n",
       "    <tr>\n",
       "      <th>...</th>\n",
       "      <td>...</td>\n",
       "      <td>...</td>\n",
       "      <td>...</td>\n",
       "      <td>...</td>\n",
       "      <td>...</td>\n",
       "    </tr>\n",
       "    <tr>\n",
       "      <th>95</th>\n",
       "      <td>For best flavor, Navarin should be simmered sl...</td>\n",
       "      <td>2</td>\n",
       "      <td>How long should I simmer Navarin for best flavor?</td>\n",
       "      <td>PARTLY_RELEVANT</td>\n",
       "      <td>The generated answer provides a general guidel...</td>\n",
       "    </tr>\n",
       "    <tr>\n",
       "      <th>96</th>\n",
       "      <td>No, Navarin is traditionally made with lamb. W...</td>\n",
       "      <td>38</td>\n",
       "      <td>Can I use other meats instead of lamb in Navarin?</td>\n",
       "      <td>PARTLY_RELEVANT</td>\n",
       "      <td>The generated answer addresses the question by...</td>\n",
       "    </tr>\n",
       "    <tr>\n",
       "      <th>97</th>\n",
       "      <td>Yes, you can add ingredients other than cream ...</td>\n",
       "      <td>18</td>\n",
       "      <td>Can I add ingredients other than cream or ham ...</td>\n",
       "      <td>RELEVANT</td>\n",
       "      <td>The generated answer directly addresses the qu...</td>\n",
       "    </tr>\n",
       "    <tr>\n",
       "      <th>98</th>\n",
       "      <td>To properly beat egg whites for a soufflé, you...</td>\n",
       "      <td>44</td>\n",
       "      <td>How do you properly beat egg whites for a souf...</td>\n",
       "      <td>RELEVANT</td>\n",
       "      <td>The generated answer directly addresses the qu...</td>\n",
       "    </tr>\n",
       "    <tr>\n",
       "      <th>99</th>\n",
       "      <td>To achieve a brunoise cut in vegetables, start...</td>\n",
       "      <td>22</td>\n",
       "      <td>Can you explain how to achieve a brunoise cut ...</td>\n",
       "      <td>RELEVANT</td>\n",
       "      <td>The generated answer provides a clear and step...</td>\n",
       "    </tr>\n",
       "  </tbody>\n",
       "</table>\n",
       "<p>100 rows × 5 columns</p>\n",
       "</div>"
      ],
      "text/plain": [
       "                                               answer  id  \\\n",
       "0   Microwave cooking is not safe for all types of...  60   \n",
       "1   The sous vide method ensures even doneness by ...  68   \n",
       "2   The ideal temperature for deep frying is betwe...   9   \n",
       "3   To achieve the pale color in a Fricassee, it i...  13   \n",
       "4   To achieve flavorful results when braising, it...  95   \n",
       "..                                                ...  ..   \n",
       "95  For best flavor, Navarin should be simmered sl...   2   \n",
       "96  No, Navarin is traditionally made with lamb. W...  38   \n",
       "97  Yes, you can add ingredients other than cream ...  18   \n",
       "98  To properly beat egg whites for a soufflé, you...  44   \n",
       "99  To achieve a brunoise cut in vegetables, start...  22   \n",
       "\n",
       "                                             question        relevance  \\\n",
       "0    Is microwave cooking safe for all types of food?         RELEVANT   \n",
       "1   How does the sous vide method ensure even done...         RELEVANT   \n",
       "2      What is the ideal temperature for deep frying?         RELEVANT   \n",
       "3   How do you achieve the pale color in a Fricassee?         RELEVANT   \n",
       "4   Are there any tips for achieving flavorful res...         RELEVANT   \n",
       "..                                                ...              ...   \n",
       "95  How long should I simmer Navarin for best flavor?  PARTLY_RELEVANT   \n",
       "96  Can I use other meats instead of lamb in Navarin?  PARTLY_RELEVANT   \n",
       "97  Can I add ingredients other than cream or ham ...         RELEVANT   \n",
       "98  How do you properly beat egg whites for a souf...         RELEVANT   \n",
       "99  Can you explain how to achieve a brunoise cut ...         RELEVANT   \n",
       "\n",
       "                                          explanation  \n",
       "0   The generated answer directly addresses the qu...  \n",
       "1   The generated answer directly addresses how th...  \n",
       "2   The generated answer directly addresses the qu...  \n",
       "3   The generated answer directly addresses the qu...  \n",
       "4   The generated answer provides specific tips fo...  \n",
       "..                                                ...  \n",
       "95  The generated answer provides a general guidel...  \n",
       "96  The generated answer addresses the question by...  \n",
       "97  The generated answer directly addresses the qu...  \n",
       "98  The generated answer directly addresses the qu...  \n",
       "99  The generated answer provides a clear and step...  \n",
       "\n",
       "[100 rows x 5 columns]"
      ]
     },
     "execution_count": 49,
     "metadata": {},
     "output_type": "execute_result"
    }
   ],
   "source": [
    "df_eval['id'] = df_eval.record.apply(lambda d: d['id'])\n",
    "df_eval['question'] = df_eval.record.apply(lambda d: d['question'])\n",
    "\n",
    "df_eval['evaluation'] = df_eval['evaluation'].apply(json.loads)\n",
    "df_eval['relevance'] = df_eval.evaluation.apply(lambda d: d['Relevance'])\n",
    "df_eval['explanation'] = df_eval.evaluation.apply(lambda d: d['Explanation'])\n",
    "\n",
    "del df_eval['record']\n",
    "del df_eval['evaluation']\n",
    "\n",
    "df_eval"
   ]
  },
  {
   "cell_type": "code",
   "execution_count": 50,
   "id": "5d96cea5-177f-446c-a296-4bf75eb607bf",
   "metadata": {},
   "outputs": [
    {
     "data": {
      "text/plain": [
       "relevance\n",
       "RELEVANT           85\n",
       "PARTLY_RELEVANT    11\n",
       "NON_RELEVANT        4\n",
       "Name: count, dtype: int64"
      ]
     },
     "execution_count": 50,
     "metadata": {},
     "output_type": "execute_result"
    }
   ],
   "source": [
    "df_eval.relevance.value_counts()"
   ]
  },
  {
   "cell_type": "code",
   "execution_count": 51,
   "id": "b68c3eb7-4801-4b3a-aed9-ae05b1832fa0",
   "metadata": {},
   "outputs": [
    {
     "data": {
      "application/vnd.jupyter.widget-view+json": {
       "model_id": "ca0e99ce911b40d49457e5dea27c176d",
       "version_major": 2,
       "version_minor": 0
      },
      "text/plain": [
       "  0%|          | 0/100 [00:00<?, ?it/s]"
      ]
     },
     "metadata": {},
     "output_type": "display_data"
    }
   ],
   "source": [
    "evaluations_4o = []\n",
    "\n",
    "for record in tqdm(sample):\n",
    "        \n",
    "    question = record['question']\n",
    "    answer_llm = rag(question, model='gpt-4o')\n",
    "\n",
    "    prompt = prompt2_template.format(\n",
    "        question=question,\n",
    "        answer_llm=answer_llm)\n",
    "    evaluation = llm(prompt)\n",
    "\n",
    "    evaluations_4o.append((record, answer_llm, evaluation))"
   ]
  },
  {
   "cell_type": "code",
   "execution_count": 52,
   "id": "971aa0f7-d8d5-4872-8283-c785c36145f6",
   "metadata": {},
   "outputs": [
    {
     "data": {
      "text/html": [
       "<div>\n",
       "<style scoped>\n",
       "    .dataframe tbody tr th:only-of-type {\n",
       "        vertical-align: middle;\n",
       "    }\n",
       "\n",
       "    .dataframe tbody tr th {\n",
       "        vertical-align: top;\n",
       "    }\n",
       "\n",
       "    .dataframe thead th {\n",
       "        text-align: right;\n",
       "    }\n",
       "</style>\n",
       "<table border=\"1\" class=\"dataframe\">\n",
       "  <thead>\n",
       "    <tr style=\"text-align: right;\">\n",
       "      <th></th>\n",
       "      <th>answer</th>\n",
       "      <th>id</th>\n",
       "      <th>question</th>\n",
       "      <th>relevance</th>\n",
       "      <th>explanation</th>\n",
       "    </tr>\n",
       "  </thead>\n",
       "  <tbody>\n",
       "    <tr>\n",
       "      <th>0</th>\n",
       "      <td>Microwave cooking is generally safe for many t...</td>\n",
       "      <td>60</td>\n",
       "      <td>Is microwave cooking safe for all types of food?</td>\n",
       "      <td>RELEVANT</td>\n",
       "      <td>The generated answer accurately addresses the ...</td>\n",
       "    </tr>\n",
       "    <tr>\n",
       "      <th>1</th>\n",
       "      <td>The sous vide method ensures even doneness by ...</td>\n",
       "      <td>68</td>\n",
       "      <td>How does the sous vide method ensure even done...</td>\n",
       "      <td>RELEVANT</td>\n",
       "      <td>The generated answer directly addresses the qu...</td>\n",
       "    </tr>\n",
       "    <tr>\n",
       "      <th>2</th>\n",
       "      <td>The ideal temperature for deep frying is typic...</td>\n",
       "      <td>9</td>\n",
       "      <td>What is the ideal temperature for deep frying?</td>\n",
       "      <td>RELEVANT</td>\n",
       "      <td>The generated answer directly addresses the qu...</td>\n",
       "    </tr>\n",
       "    <tr>\n",
       "      <th>3</th>\n",
       "      <td>To achieve the pale color in a Fricassee, main...</td>\n",
       "      <td>13</td>\n",
       "      <td>How do you achieve the pale color in a Fricassee?</td>\n",
       "      <td>RELEVANT</td>\n",
       "      <td>The generated answer directly addresses the qu...</td>\n",
       "    </tr>\n",
       "    <tr>\n",
       "      <th>4</th>\n",
       "      <td>To achieve flavorful results when braising, it...</td>\n",
       "      <td>95</td>\n",
       "      <td>Are there any tips for achieving flavorful res...</td>\n",
       "      <td>RELEVANT</td>\n",
       "      <td>The generated answer directly addresses the qu...</td>\n",
       "    </tr>\n",
       "    <tr>\n",
       "      <th>...</th>\n",
       "      <td>...</td>\n",
       "      <td>...</td>\n",
       "      <td>...</td>\n",
       "      <td>...</td>\n",
       "      <td>...</td>\n",
       "    </tr>\n",
       "    <tr>\n",
       "      <th>95</th>\n",
       "      <td>For best flavor, Navarin should be simmered sl...</td>\n",
       "      <td>2</td>\n",
       "      <td>How long should I simmer Navarin for best flavor?</td>\n",
       "      <td>PARTLY_RELEVANT</td>\n",
       "      <td>The generated answer provides useful informati...</td>\n",
       "    </tr>\n",
       "    <tr>\n",
       "      <th>96</th>\n",
       "      <td>Navarin is traditionally a lamb stew, and its ...</td>\n",
       "      <td>38</td>\n",
       "      <td>Can I use other meats instead of lamb in Navarin?</td>\n",
       "      <td>RELEVANT</td>\n",
       "      <td>The generated answer directly addresses the qu...</td>\n",
       "    </tr>\n",
       "    <tr>\n",
       "      <th>97</th>\n",
       "      <td>Yes, you can add ingredients other than cream ...</td>\n",
       "      <td>18</td>\n",
       "      <td>Can I add ingredients other than cream or ham ...</td>\n",
       "      <td>RELEVANT</td>\n",
       "      <td>The generated answer directly addresses the qu...</td>\n",
       "    </tr>\n",
       "    <tr>\n",
       "      <th>98</th>\n",
       "      <td>To properly beat egg whites for a soufflé, ens...</td>\n",
       "      <td>44</td>\n",
       "      <td>How do you properly beat egg whites for a souf...</td>\n",
       "      <td>RELEVANT</td>\n",
       "      <td>The generated answer provides a clear and accu...</td>\n",
       "    </tr>\n",
       "    <tr>\n",
       "      <th>99</th>\n",
       "      <td>To achieve a brunoise cut in vegetables, you s...</td>\n",
       "      <td>22</td>\n",
       "      <td>Can you explain how to achieve a brunoise cut ...</td>\n",
       "      <td>RELEVANT</td>\n",
       "      <td>The generated answer provides a detailed and a...</td>\n",
       "    </tr>\n",
       "  </tbody>\n",
       "</table>\n",
       "<p>100 rows × 5 columns</p>\n",
       "</div>"
      ],
      "text/plain": [
       "                                               answer  id  \\\n",
       "0   Microwave cooking is generally safe for many t...  60   \n",
       "1   The sous vide method ensures even doneness by ...  68   \n",
       "2   The ideal temperature for deep frying is typic...   9   \n",
       "3   To achieve the pale color in a Fricassee, main...  13   \n",
       "4   To achieve flavorful results when braising, it...  95   \n",
       "..                                                ...  ..   \n",
       "95  For best flavor, Navarin should be simmered sl...   2   \n",
       "96  Navarin is traditionally a lamb stew, and its ...  38   \n",
       "97  Yes, you can add ingredients other than cream ...  18   \n",
       "98  To properly beat egg whites for a soufflé, ens...  44   \n",
       "99  To achieve a brunoise cut in vegetables, you s...  22   \n",
       "\n",
       "                                             question        relevance  \\\n",
       "0    Is microwave cooking safe for all types of food?         RELEVANT   \n",
       "1   How does the sous vide method ensure even done...         RELEVANT   \n",
       "2      What is the ideal temperature for deep frying?         RELEVANT   \n",
       "3   How do you achieve the pale color in a Fricassee?         RELEVANT   \n",
       "4   Are there any tips for achieving flavorful res...         RELEVANT   \n",
       "..                                                ...              ...   \n",
       "95  How long should I simmer Navarin for best flavor?  PARTLY_RELEVANT   \n",
       "96  Can I use other meats instead of lamb in Navarin?         RELEVANT   \n",
       "97  Can I add ingredients other than cream or ham ...         RELEVANT   \n",
       "98  How do you properly beat egg whites for a souf...         RELEVANT   \n",
       "99  Can you explain how to achieve a brunoise cut ...         RELEVANT   \n",
       "\n",
       "                                          explanation  \n",
       "0   The generated answer accurately addresses the ...  \n",
       "1   The generated answer directly addresses the qu...  \n",
       "2   The generated answer directly addresses the qu...  \n",
       "3   The generated answer directly addresses the qu...  \n",
       "4   The generated answer directly addresses the qu...  \n",
       "..                                                ...  \n",
       "95  The generated answer provides useful informati...  \n",
       "96  The generated answer directly addresses the qu...  \n",
       "97  The generated answer directly addresses the qu...  \n",
       "98  The generated answer provides a clear and accu...  \n",
       "99  The generated answer provides a detailed and a...  \n",
       "\n",
       "[100 rows x 5 columns]"
      ]
     },
     "execution_count": 52,
     "metadata": {},
     "output_type": "execute_result"
    }
   ],
   "source": [
    "df_eval = pd.DataFrame(evaluations_4o, columns=['record','answer', 'evaluation'])\n",
    "\n",
    "df_eval['id'] = df_eval.record.apply(lambda d: d['id'])\n",
    "df_eval['question'] = df_eval.record.apply(lambda d: d['question'])\n",
    "\n",
    "df_eval['evaluation'] = df_eval['evaluation'].apply(json.loads)\n",
    "df_eval['relevance'] = df_eval.evaluation.apply(lambda d: d['Relevance'])\n",
    "df_eval['explanation'] = df_eval.evaluation.apply(lambda d: d['Explanation'])\n",
    "\n",
    "del df_eval['record']\n",
    "del df_eval['evaluation']\n",
    "\n",
    "df_eval"
   ]
  },
  {
   "cell_type": "code",
   "execution_count": 53,
   "id": "33984ffb-0b51-4c64-9681-c25991e105db",
   "metadata": {},
   "outputs": [
    {
     "data": {
      "text/plain": [
       "relevance\n",
       "RELEVANT           85\n",
       "PARTLY_RELEVANT    12\n",
       "NON_RELEVANT        3\n",
       "Name: count, dtype: int64"
      ]
     },
     "execution_count": 53,
     "metadata": {},
     "output_type": "execute_result"
    }
   ],
   "source": [
    "df_eval.relevance.value_counts()"
   ]
  },
  {
   "cell_type": "code",
   "execution_count": null,
   "id": "68dcbe2f-446a-458b-9f7c-145039390825",
   "metadata": {},
   "outputs": [],
   "source": []
  }
 ],
 "metadata": {
  "kernelspec": {
   "display_name": "Python 3 (ipykernel)",
   "language": "python",
   "name": "python3"
  },
  "language_info": {
   "codemirror_mode": {
    "name": "ipython",
    "version": 3
   },
   "file_extension": ".py",
   "mimetype": "text/x-python",
   "name": "python",
   "nbconvert_exporter": "python",
   "pygments_lexer": "ipython3",
   "version": "3.13.5"
  }
 },
 "nbformat": 4,
 "nbformat_minor": 5
}
